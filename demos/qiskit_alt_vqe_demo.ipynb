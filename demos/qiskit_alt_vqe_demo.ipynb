{
 "cells": [
  {
   "cell_type": "code",
   "execution_count": 1,
   "id": "b3b46030",
   "metadata": {},
   "outputs": [],
   "source": [
    "from qiskit.algorithms import VQE\n",
    "from qiskit.algorithms.optimizers import COBYLA\n",
    "from qiskit.opflow import X, Y, Z, I, PauliSumOp\n",
    "from qiskit.circuit.library import TwoLocal\n",
    "\n",
    "from qiskit import Aer\n",
    "\n",
    "import numpy as np\n",
    "\n",
    "import qiskit_alt, qiskit_alt.electronic_structure\n",
    "from qiskit_alt.pauli_operators import PauliSum_to_SparsePauliOp"
   ]
  },
  {
   "cell_type": "code",
   "execution_count": 2,
   "id": "b8417425",
   "metadata": {},
   "outputs": [
    {
     "data": {
      "text/csv": [
       "QuantumOps.Paulis.Pauli: I,QuantumOps.Paulis.Pauli: I,QuantumOps.Paulis.Pauli: X\n",
       "QuantumOps.Paulis.Pauli: I,QuantumOps.Paulis.Pauli: Z,QuantumOps.Paulis.Pauli: Z\n",
       "QuantumOps.Paulis.Pauli: Y,QuantumOps.Paulis.Pauli: X,QuantumOps.Paulis.Pauli: I\n"
      ],
      "text/input": [
       "QuantumOps.PauliSum([QuantumOps.PauliTerm(\"IIX\", 1 + 0im),QuantumOps.PauliTerm(\"IZZ\", 2 + 0im),QuantumOps.PauliTerm(\"YXI\", 1 + 0im),])"
      ],
      "text/plain": [
       "3x3 QuantumOps.PauliSum{Vector{Vector{QuantumOps.Paulis.Pauli}}, Vector{Complex{Int64}}}:\n",
       "IIX * (1 + 0im)\n",
       "IZZ * (2 + 0im)\n",
       "YXI * (1 + 0im)"
      ],
      "text/tab-separated-values": [
       "QuantumOps.Paulis.Pauli: I\tQuantumOps.Paulis.Pauli: I\tQuantumOps.Paulis.Pauli: X\n",
       "QuantumOps.Paulis.Pauli: I\tQuantumOps.Paulis.Pauli: Z\tQuantumOps.Paulis.Pauli: Z\n",
       "QuantumOps.Paulis.Pauli: Y\tQuantumOps.Paulis.Pauli: X\tQuantumOps.Paulis.Pauli: I\n"
      ]
     },
     "execution_count": 2,
     "metadata": {},
     "output_type": "execute_result"
    }
   ],
   "source": [
    "QuantumOps = qiskit_alt.project.simple_import(\"QuantumOps\")\n",
    "pauli_sum = QuantumOps.rand_op_sum(QuantumOps.Pauli, 3, 4); pauli_sum"
   ]
  },
  {
   "cell_type": "code",
   "execution_count": 3,
   "id": "bbaf2c7c",
   "metadata": {},
   "outputs": [
    {
     "name": "stdout",
     "output_type": "stream",
     "text": [
      "1.0 * XII\n",
      "+ 2.0 * ZZI\n",
      "+ 1.0 * IXY\n"
     ]
    }
   ],
   "source": [
    "hamiltonian_operator = PauliSumOp(PauliSum_to_SparsePauliOp(pauli_sum))\n",
    "print(hamiltonian_operator)"
   ]
  },
  {
   "cell_type": "code",
   "execution_count": 4,
   "id": "a66e5d69",
   "metadata": {},
   "outputs": [],
   "source": [
    "ansatz = TwoLocal(rotation_blocks=['ry'], entanglement_blocks='cx')"
   ]
  },
  {
   "cell_type": "code",
   "execution_count": 5,
   "id": "403b5973",
   "metadata": {},
   "outputs": [],
   "source": [
    "optimizer = COBYLA(maxiter=500)"
   ]
  },
  {
   "cell_type": "code",
   "execution_count": 6,
   "id": "cf1cf0bf",
   "metadata": {},
   "outputs": [
    {
     "name": "stdout",
     "output_type": "stream",
     "text": [
      "-2.236067958662744\n"
     ]
    }
   ],
   "source": [
    "backend = Aer.get_backend('aer_simulator_statevector')\n",
    "\n",
    "vqe = VQE(ansatz = ansatz, \n",
    "          optimizer = optimizer,\n",
    "          quantum_instance = backend)\n",
    "\n",
    "result = vqe.compute_minimum_eigenvalue(operator=hamiltonian_operator)\n",
    "\n",
    "print(result.eigenvalue.real)"
   ]
  },
  {
   "cell_type": "code",
   "execution_count": null,
   "id": "f188414a",
   "metadata": {},
   "outputs": [],
   "source": []
  }
 ],
 "metadata": {
  "kernelspec": {
   "display_name": "Python 3",
   "language": "python",
   "name": "python3"
  },
  "language_info": {
   "codemirror_mode": {
    "name": "ipython",
    "version": 3
   },
   "file_extension": ".py",
   "mimetype": "text/x-python",
   "name": "python",
   "nbconvert_exporter": "python",
   "pygments_lexer": "ipython3",
   "version": "3.8.10"
  }
 },
 "nbformat": 4,
 "nbformat_minor": 5
}
