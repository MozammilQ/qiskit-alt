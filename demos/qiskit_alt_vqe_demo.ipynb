{
 "cells": [
  {
   "cell_type": "markdown",
   "id": "a199fdac",
   "metadata": {},
   "source": [
    "<h1> VQE for $H_2$ molecule"
   ]
  },
  {
   "cell_type": "markdown",
   "id": "8a3e139b",
   "metadata": {},
   "source": [
    "In this tutorial, we use the Variational Quantum Eigensolver (VQE) algorithm to compute the ground-state energy of the Hydrogen gas molecule ($H_2$).\n",
    "Particularly, we use `qiskit-alt` features to perform the Jordan-Wigner transform from the Fermionic operator that describes the $H_2$ molecule to a Pauli operator. "
   ]
  },
  {
   "cell_type": "code",
   "execution_count": 1,
   "id": "b3b46030",
   "metadata": {},
   "outputs": [],
   "source": [
    "from qiskit.algorithms import VQE\n",
    "from qiskit.algorithms.optimizers import COBYLA\n",
    "from qiskit.opflow import X, Y, Z, I, PauliSumOp\n",
    "from qiskit.circuit.library import TwoLocal\n",
    "\n",
    "from qiskit import Aer\n",
    "\n",
    "import numpy as np\n",
    "\n",
    "import qiskit_alt, qiskit_alt.electronic_structure\n",
    "from qiskit_alt.pauli_operators import PauliSum_to_SparsePauliOp\n",
    "from qiskit.opflow import PauliSumOp"
   ]
  },
  {
   "cell_type": "markdown",
   "id": "88b64ed3",
   "metadata": {},
   "source": [
    "We start by simulating the $H_2$ molecule using the STO-3G basis:"
   ]
  },
  {
   "cell_type": "code",
   "execution_count": 2,
   "id": "7b352a1b",
   "metadata": {},
   "outputs": [],
   "source": [
    "# Describe the Hydrogen molecule by fixing the location of each nucleus\n",
    "geometry = [['H', [0., 0., 0.]], ['H', [0., 0., 0.739]]]\n",
    "basis = 'sto3g'"
   ]
  },
  {
   "cell_type": "markdown",
   "id": "c8ace997",
   "metadata": {},
   "source": [
    "In order to map the problem to a quantum circuit, we first compute the Fermionic operator of the molecule, then map it to a Pauli operator using the Jordan-Wigner tranform:"
   ]
  },
  {
   "cell_type": "code",
   "execution_count": 3,
   "id": "4f7a1991",
   "metadata": {},
   "outputs": [
    {
     "name": "stdout",
     "output_type": "stream",
     "text": [
      "-0.09577720253672618 * IIII\n",
      "- 0.22389389642914415 * ZIII\n",
      "+ 0.1715666759109326 * IZII\n",
      "+ 0.12068268831019151 * ZZII\n",
      "- 0.22389389642914415 * IIZI\n",
      "+ 0.17445893297586684 * ZIZI\n",
      "+ 0.16597132363812456 * IZZI\n",
      "+ 0.04528863532793307 * XXXX\n",
      "+ 0.04528863532793307 * YYXX\n",
      "+ 0.04528863532793307 * XXYY\n",
      "+ 0.04528863532793307 * YYYY\n",
      "+ 0.17156667591093255 * IIIZ\n",
      "+ 0.16597132363812456 * ZIIZ\n",
      "+ 0.16873669065193608 * IZIZ\n",
      "+ 0.12068268831019151 * IIZZ\n"
     ]
    }
   ],
   "source": [
    "# Compute the Fermionic operator of the molecule \n",
    "fermi_op = qiskit_alt.electronic_structure.fermionic_hamiltonian(geometry, basis)\n",
    "\n",
    "# Convert the Fermionic operator to a Pauli operator using the Jordan-Wigner transform\n",
    "pauli_op = qiskit_alt.electronic_structure.jordan_wigner(fermi_op);\n",
    "\n",
    "# Convert the Pauli operator into a sum of Pauli operators\n",
    "# input to the VQE algorithm to compute the minimum eigenvalue\n",
    "pauli_sum_op = PauliSumOp(pauli_op)\n",
    "print(pauli_sum_op)"
   ]
  },
  {
   "cell_type": "markdown",
   "id": "981b6ebd",
   "metadata": {},
   "source": [
    "We choose the ansatz and the optimizer, and run the the algorithm for 500 shots:"
   ]
  },
  {
   "cell_type": "code",
   "execution_count": 4,
   "id": "a66e5d69",
   "metadata": {},
   "outputs": [],
   "source": [
    "# Set up the ansatz of type TwoLOcal\n",
    "ansatz = TwoLocal(num_qubits=4, \n",
    "                  rotation_blocks=['ry'], \n",
    "                  entanglement_blocks='cx', \n",
    "                  reps=1,\n",
    "                  entanglement='linear', \n",
    "                  skip_final_rotation_layer= False)\n",
    "\n",
    "# Initialize the COBYLA optimizer\n",
    "optimizer = COBYLA(maxiter=500)"
   ]
  },
  {
   "cell_type": "markdown",
   "id": "4cb2cca7",
   "metadata": {},
   "source": [
    "We select the Aer backend and run the VQE algorithm according to the set parameters. \n",
    "We determine the value of the ground-state energy of the Hydrogen molecule as the minimum eigenvalue"
   ]
  },
  {
   "cell_type": "code",
   "execution_count": 5,
   "id": "cf1cf0bf",
   "metadata": {},
   "outputs": [
    {
     "name": "stdout",
     "output_type": "stream",
     "text": [
      "The ground-state energy of the Hydrogen molecule is -1.117 Hatree\n"
     ]
    }
   ],
   "source": [
    "# Select the backend for the quantum_instance\n",
    "backend = Aer.get_backend('aer_simulator_statevector')\n",
    "\n",
    "# Run VQE algorithm\n",
    "vqe = VQE(ansatz = ansatz, \n",
    "          optimizer = optimizer,\n",
    "          quantum_instance = backend)\n",
    "\n",
    "# Compute the ground-state energy of the molecule\n",
    "result = vqe.compute_minimum_eigenvalue(operator=pauli_sum_op)\n",
    "print(\"The ground-state energy of the Hydrogen molecule is {} Hatree\".format(round(result.eigenvalue.real,3)))"
   ]
  }
 ],
 "metadata": {
  "kernelspec": {
   "display_name": "Python 3",
   "language": "python",
   "name": "python3"
  },
  "language_info": {
   "codemirror_mode": {
    "name": "ipython",
    "version": 3
   },
   "file_extension": ".py",
   "mimetype": "text/x-python",
   "name": "python",
   "nbconvert_exporter": "python",
   "pygments_lexer": "ipython3",
   "version": "3.8.10"
  }
 },
 "nbformat": 4,
 "nbformat_minor": 5
}
