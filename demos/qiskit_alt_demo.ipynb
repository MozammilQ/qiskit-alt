{
 "cells": [
  {
   "cell_type": "markdown",
   "id": "3e23cbd3",
   "metadata": {},
   "source": [
    "# qiskit_alt\n",
    "\n",
    "This python package provides a thin wrapper around some features of Qiskit that have been (re-)implemented in Julia and provides a Python interface. The input and output of the Python interface are the same as the input and output to Python qiskit. At present, we have prepared two high level demonstrations\n",
    "\n",
    "* Performing the Jordan-Wigner transform from a Fermionic operator to a Pauli operator.\n",
    "\n",
    "* Computing the Fermionic operator from integrals computed by `pyscf`.\n",
    "\n",
    "In both cases, we will see that the `qiskit_alt` implementation is much more performant.\n",
    "\n",
    "We have also prepared some lower-level demonstrations of performance gains\n",
    "\n",
    "* Converting an operator from the computational basis to the Pauli basis.\n",
    "\n",
    "* Creating a `SparsePauliOp` from a list of strings"
   ]
  },
  {
   "cell_type": "markdown",
   "id": "86f7fd8f",
   "metadata": {},
   "source": [
    "The Python package has been installed in a virtual environment created with `python -m venv ./env`. The Julia packages have been installed in a local environment in the standard way, via a spec in `Project.toml` file.\n",
    "\n",
    "When we import the package `qiskit_alt`, the Julia environment is also activated."
   ]
  },
  {
   "cell_type": "code",
   "execution_count": 1,
   "id": "29b7099b",
   "metadata": {
    "scrolled": true
   },
   "outputs": [
    {
     "name": "stderr",
     "output_type": "stream",
     "text": [
      "  Activating project at `~/myrepos/quantum_repos/qiskit_alt`\n"
     ]
    },
    {
     "name": "stdout",
     "output_type": "stream",
     "text": [
      "CPU times: user 1.65 s, sys: 1.6 s, total: 3.25 s\n",
      "Wall time: 1.86 s\n"
     ]
    }
   ],
   "source": [
    "%time import qiskit_alt  # The message below is from Julia"
   ]
  },
  {
   "cell_type": "markdown",
   "id": "cb29172e",
   "metadata": {},
   "source": [
    "We assume that no one is familiar with Julia, much less with `pyjulia`, the package we use to call Julia from Python. So, we inject a bit of tutorial.\n",
    "\n",
    "The default `Module` in Julia `Main` is available. You can think of it as a namespace. And, as always, objects from the `Module` `Base` have been imported into `Main`.\n",
    "\n",
    "As an example of how `pyjulia` works, we create an `Array` of `Float64` zeros on the Julia side, and they are automatically copied to a numpy array when returned to Python."
   ]
  },
  {
   "cell_type": "code",
   "execution_count": 2,
   "id": "0f936bc8",
   "metadata": {},
   "outputs": [
    {
     "name": "stderr",
     "output_type": "stream",
     "text": [
      "┌ Warning: `vendor()` is deprecated, use `BLAS.get_config()` and inspect the output instead\n",
      "│   caller = npyinitialize() at numpy.jl:67\n",
      "└ @ PyCall ~/.julia/packages/PyCall/3fwVL/src/numpy.jl:67\n"
     ]
    },
    {
     "data": {
      "text/plain": [
       "array([0., 0., 0., 0., 0., 0., 0., 0., 0., 0.])"
      ]
     },
     "execution_count": 2,
     "metadata": {},
     "output_type": "execute_result"
    }
   ],
   "source": [
    "qiskit_alt.Main.zeros(10)"
   ]
  },
  {
   "cell_type": "markdown",
   "id": "b733f29d",
   "metadata": {},
   "source": [
    "There are several ways to call Julia from Python and vice versa, and to specifiy features such as the copying vs. sharing semantics. We won't go into any of this in this demo."
   ]
  },
  {
   "cell_type": "markdown",
   "id": "dea87cf9",
   "metadata": {},
   "source": [
    "## Electronic structure\n",
    "\n",
    "Part of a workflow for, say, VQE involves using qiskit-nature to do the following:\n",
    "* Get a description of a model Hamiltonian from the package `pyscf` by passing it a description of the geometry of a molecule.\n",
    "* Convert that description of a Hamiltonian to a qiskit-native Fermionic operator.\n",
    "* Convert the Fermionic operator to a qubit operator expressed in the Pauli basis.\n",
    "\n",
    "The last step above may be done in several ways, one of which is known as the Jordan-Wigner transform. It is this step that we will benchmark here."
   ]
  },
  {
   "cell_type": "markdown",
   "id": "c4ca7000",
   "metadata": {},
   "source": [
    "### qiskit-nature\n",
    "\n",
    "First, we see how this is done in qiskit-nature. We need to specify the geometry of the molecule and the\n",
    "[basis set](https://en.wikipedia.org/wiki/Basis_set_(chemistry)). We choose `sto3g`, one of the smallest, simplest, basis sets."
   ]
  },
  {
   "cell_type": "code",
   "execution_count": 3,
   "id": "ca1047f9",
   "metadata": {},
   "outputs": [],
   "source": [
    "from qiskit_nature.drivers import UnitsType, Molecule\n",
    "from qiskit_nature.drivers.second_quantization import ElectronicStructureDriverType, ElectronicStructureMoleculeDriver\n",
    "\n",
    "# Specify the geometry of the H_2 molecule\n",
    "geometry = [['H', [0., 0., 0.]],\n",
    "            ['H', [0., 0., 0.735]]]\n",
    "\n",
    "basis = 'sto3g'"
   ]
  },
  {
   "cell_type": "markdown",
   "id": "c6726e7d",
   "metadata": {},
   "source": [
    "Then, we compute the fermionic Hamiltonian like this."
   ]
  },
  {
   "cell_type": "code",
   "execution_count": 4,
   "id": "fc1697b6",
   "metadata": {},
   "outputs": [],
   "source": [
    "molecule = Molecule(geometry=geometry,\n",
    "                     charge=0, multiplicity=1)\n",
    "driver = ElectronicStructureMoleculeDriver(molecule, basis=basis, driver_type=ElectronicStructureDriverType.PYSCF)\n",
    "\n",
    "from qiskit_nature.problems.second_quantization import ElectronicStructureProblem\n",
    "from qiskit_nature.converters.second_quantization import QubitConverter\n",
    "from qiskit_nature.mappers.second_quantization import JordanWignerMapper\n",
    "\n",
    "es_problem = ElectronicStructureProblem(driver)\n",
    "second_q_op = es_problem.second_q_ops()\n",
    "\n",
    "fermionic_hamiltonian = second_q_op[0]"
   ]
  },
  {
   "cell_type": "markdown",
   "id": "f6000f0a",
   "metadata": {},
   "source": [
    "The Jordan-Wigner transform is performed like this."
   ]
  },
  {
   "cell_type": "code",
   "execution_count": 5,
   "id": "1d41dd67",
   "metadata": {},
   "outputs": [
    {
     "data": {
      "text/plain": [
       "SparsePauliOp(['IIII', 'ZIII', 'IZII', 'ZZII', 'IIZI', 'ZIZI', 'IZZI', 'IIIZ', 'ZIIZ', 'IZIZ', 'IIZZ', 'XXXX', 'YYXX', 'XXYY', 'YYYY'],\n",
       "              coeffs=[-0.81054798+0.j, -0.22575349+0.j,  0.17218393+0.j,  0.12091263+0.j,\n",
       " -0.22575349+0.j,  0.17464343+0.j,  0.16614543+0.j,  0.17218393+0.j,\n",
       "  0.16614543+0.j,  0.16892754+0.j,  0.12091263+0.j,  0.0452328 +0.j,\n",
       "  0.0452328 +0.j,  0.0452328 +0.j,  0.0452328 +0.j])"
      ]
     },
     "execution_count": 5,
     "metadata": {},
     "output_type": "execute_result"
    }
   ],
   "source": [
    "qubit_converter = QubitConverter(mapper=JordanWignerMapper())\n",
    "nature_qubit_op = qubit_converter.convert(fermionic_hamiltonian)\n",
    "nature_qubit_op.primitive"
   ]
  },
  {
   "cell_type": "markdown",
   "id": "f00c5538",
   "metadata": {},
   "source": [
    "### qiskit_alt\n",
    "\n",
    "The only high-level code in `qiskit_alt` was written to support this demo. So doing the JW-transform is less verbose."
   ]
  },
  {
   "cell_type": "code",
   "execution_count": 6,
   "id": "7ecebbe7",
   "metadata": {},
   "outputs": [
    {
     "data": {
      "text/plain": [
       "SparsePauliOp(['IIII', 'ZIII', 'IZII', 'ZZII', 'IIZI', 'ZIZI', 'IZZI', 'IIIZ', 'ZIIZ', 'IZIZ', 'IIZZ', 'XXXX', 'YYXX', 'XXYY', 'YYYY'],\n",
       "              coeffs=[-0.09057899+0.j, -0.22575349+0.j,  0.17218393+0.j,  0.12091263+0.j,\n",
       " -0.22575349+0.j,  0.17464343+0.j,  0.16614543+0.j,  0.17218393+0.j,\n",
       "  0.16614543+0.j,  0.16892754+0.j,  0.12091263+0.j,  0.0452328 +0.j,\n",
       "  0.0452328 +0.j,  0.0452328 +0.j,  0.0452328 +0.j])"
      ]
     },
     "execution_count": 6,
     "metadata": {},
     "output_type": "execute_result"
    }
   ],
   "source": [
    "fermi_op = qiskit_alt.fermionic_hamiltonian(geometry, basis)\n",
    "pauli_op = qiskit_alt.jordan_wigner(fermi_op)\n",
    "pauli_op.simplify() # The Julia Pauli operators use a different sorting convention; we sort again for comparison. "
   ]
  },
  {
   "cell_type": "markdown",
   "id": "9712833d",
   "metadata": {},
   "source": [
    "Note that the constant term differs. The qiskit-nature version ignores the nuclear-repulsion term. I need to open an issue about whether and how to handle it."
   ]
  },
  {
   "cell_type": "markdown",
   "id": "f32494c5",
   "metadata": {},
   "source": [
    "### Benchmarking\n",
    "\n",
    "Computing the Hamiltonian for a larger molecule or a larger basis set takes more time and produces a Hamiltonian with more factors and terms. Here we compare the performance of `qiskit_alt` and `qiskit-nature` on combinations of $\\text{H}_2$ and $\\text{H}_2\\text{O}$ molecules for several basis sets."
   ]
  },
  {
   "cell_type": "markdown",
   "id": "9c118b30",
   "metadata": {},
   "source": [
    "First we benchmark qiskit-nature, and record the times in `nature_times`."
   ]
  },
  {
   "cell_type": "code",
   "execution_count": 7,
   "id": "83562a9c",
   "metadata": {},
   "outputs": [
    {
     "name": "stdout",
     "output_type": "stream",
     "text": [
      "geometry=h2_geometry, basis='sto3g' 8.05 ms\n",
      "geometry=h2_geometry, basis='631g' 107.20 ms\n",
      "geometry=h2_geometry, basis='631++g' 565.85 ms\n",
      "geometry=h2o_geometry, basis='sto3g' 664.46 ms\n",
      "geometry=h2o_geometry, basis='631g' 19270.12 ms\n"
     ]
    },
    {
     "data": {
      "text/plain": [
       "[8.052972005680203,\n",
       " 107.19696339219809,\n",
       " 565.853479411453,\n",
       " 664.4582789391279,\n",
       " 19270.118192769587]"
      ]
     },
     "execution_count": 7,
     "metadata": {},
     "output_type": "execute_result"
    }
   ],
   "source": [
    "%run ../bench/jordan_wigner_nature_time.py\n",
    "nature_times"
   ]
  },
  {
   "cell_type": "markdown",
   "id": "c6f6e210",
   "metadata": {},
   "source": [
    "Next we benchmark qiskit_alt, and record the times in `alt_times`."
   ]
  },
  {
   "cell_type": "code",
   "execution_count": 8,
   "id": "56f3abc4",
   "metadata": {
    "scrolled": true
   },
   "outputs": [
    {
     "name": "stdout",
     "output_type": "stream",
     "text": [
      "geometry=h2_geometry, basis='sto3g' 0.81 ms\n",
      "geometry=h2_geometry, basis='631g' 4.68 ms\n",
      "geometry=h2_geometry, basis='631++g' 24.82 ms\n",
      "geometry=h2o_geometry, basis='sto3g' 21.95 ms\n",
      "geometry=h2o_geometry, basis='631g' 713.85 ms\n"
     ]
    },
    {
     "data": {
      "text/plain": [
       "[0.8074820972979069,\n",
       " 4.684781422838569,\n",
       " 24.82047537341714,\n",
       " 21.950607793405652,\n",
       " 713.8539997860789]"
      ]
     },
     "execution_count": 8,
     "metadata": {},
     "output_type": "execute_result"
    }
   ],
   "source": [
    "%run ../bench/jordan_wigner_alt_time.py\n",
    "alt_times"
   ]
  },
  {
   "cell_type": "markdown",
   "id": "74a38fe5",
   "metadata": {},
   "source": [
    "We compare the relative performance."
   ]
  },
  {
   "cell_type": "code",
   "execution_count": 9,
   "id": "8269b475",
   "metadata": {
    "scrolled": false
   },
   "outputs": [
    {
     "data": {
      "text/plain": [
       "[9.972941855464066,\n",
       " 22.881956214564667,\n",
       " 22.797850198207126,\n",
       " 30.27060959736809,\n",
       " 26.994480942243477]"
      ]
     },
     "execution_count": 9,
     "metadata": {},
     "output_type": "execute_result"
    }
   ],
   "source": [
    "[t_nature / t_qk_alt for t_nature, t_qk_alt in zip(nature_times, alt_times)]"
   ]
  },
  {
   "cell_type": "markdown",
   "id": "e7e0524b",
   "metadata": {},
   "source": [
    "We see that\n",
    "* qiskit_alt is at least ten times faster\n",
    "* The relative performance increases as the problem in some sense gets larger.\n",
    "\n",
    "In fact, another problem, not shown here, finishes in 18s with qiskit_alt and in 5730s in qiskit-nature.\n",
    "In this case, `qiskit_alt` is 320 times faster than `qiskit-nature`. I don't have an idea about the origin of this scaling."
   ]
  },
  {
   "cell_type": "markdown",
   "id": "f6ca3e40",
   "metadata": {},
   "source": [
    "### Computing the Fermonic operator\n",
    "\n",
    "Computing the Fermionic operator from the output of `pyscf` is also much more efficient in `qiskit_alt`."
   ]
  },
  {
   "cell_type": "markdown",
   "id": "7dbc5930",
   "metadata": {},
   "source": [
    "We benchmark qiskit-nature computing the fermionic Hamiltonian"
   ]
  },
  {
   "cell_type": "code",
   "execution_count": 10,
   "id": "335323da",
   "metadata": {},
   "outputs": [
    {
     "name": "stdout",
     "output_type": "stream",
     "text": [
      "geometry=h2_geometry, basis='sto3g' 61.16 ms\n",
      "geometry=h2_geometry, basis='631g' 102.76 ms\n",
      "geometry=h2_geometry, basis='631++g' 305.58 ms\n",
      "geometry=h2o_geometry, basis='sto3g' 460.60 ms\n",
      "geometry=h2o_geometry, basis='631g' 26367.53 ms\n"
     ]
    },
    {
     "data": {
      "text/plain": [
       "[61.15992539562285,\n",
       " 102.76125096715987,\n",
       " 305.5791581980884,\n",
       " 460.5999795719981,\n",
       " 26367.526400834322]"
      ]
     },
     "execution_count": 10,
     "metadata": {},
     "output_type": "execute_result"
    }
   ],
   "source": [
    "%run ../bench/fermionic_nature_time.py\n",
    "nature_times"
   ]
  },
  {
   "cell_type": "markdown",
   "id": "10406f1c",
   "metadata": {},
   "source": [
    "We benchmark qiskit_alt computing the fermionic Hamiltonian."
   ]
  },
  {
   "cell_type": "code",
   "execution_count": 11,
   "id": "0d533f93",
   "metadata": {},
   "outputs": [
    {
     "name": "stdout",
     "output_type": "stream",
     "text": [
      "geometry=h2_geometry, basis='sto3g' 60.64 ms\n",
      "geometry=h2_geometry, basis='631g' 63.66 ms\n",
      "geometry=h2_geometry, basis='631++g' 67.90 ms\n",
      "geometry=h2o_geometry, basis='sto3g' 79.34 ms\n",
      "geometry=h2o_geometry, basis='631g' 193.29 ms\n"
     ]
    },
    {
     "data": {
      "text/plain": [
       "[60.644444124773145,\n",
       " 63.6613757815212,\n",
       " 67.90349232032895,\n",
       " 79.33510621078312,\n",
       " 193.2857227511704]"
      ]
     },
     "execution_count": 11,
     "metadata": {},
     "output_type": "execute_result"
    }
   ],
   "source": [
    "%run ../bench/fermionic_alt_time.py\n",
    "alt_times"
   ]
  },
  {
   "cell_type": "markdown",
   "id": "d185d6d6",
   "metadata": {},
   "source": [
    "We compare the relative performance."
   ]
  },
  {
   "cell_type": "code",
   "execution_count": 12,
   "id": "a2969634",
   "metadata": {},
   "outputs": [
    {
     "data": {
      "text/plain": [
       "[1.008500057644013,\n",
       " 1.6141852057961348,\n",
       " 4.500197968560213,\n",
       " 5.805752353166875,\n",
       " 136.41735160531746]"
      ]
     },
     "execution_count": 12,
     "metadata": {},
     "output_type": "execute_result"
    }
   ],
   "source": [
    "[t_nature / t_qk_alt for t_nature, t_qk_alt in zip(nature_times, alt_times)]"
   ]
  },
  {
   "cell_type": "markdown",
   "id": "5bea44b6",
   "metadata": {},
   "source": [
    "We see again that, as the problem size increases, `qiskit_alt` is increasingly more performant."
   ]
  },
  {
   "cell_type": "markdown",
   "id": "53e5fdeb",
   "metadata": {},
   "source": [
    "## Discussion\n",
    "\n",
    "The Julia implemenation consists of these packages\n",
    "\n",
    "* [`QuantumOps.jl`](https://github.ibm.com/John-Lapeyre/QuantumOps.jl) implementing Fermionic and Pauli operators and calculations using them.\n",
    "\n",
    "* [`ElectronicStructure.jl`](https://github.ibm.com/John-Lapeyre/ElectronicStructure.jl) provides an interface to electronic structure packages.\n",
    "\n",
    "* [`ElectronicStructurePySCF.jl`](https://github.ibm.com/John-Lapeyre/ElectronicStructurePySCF.jl) provides an interface to `pyscf`\n",
    "\n",
    "* [`QiskitQuantumInfo.jl`](https://github.ibm.com/John-Lapeyre/QiskitQuantumInfo.jl) provides data structures that mirror Python Qiskit data structures. These are used as intermedidate structures for converting from `QuantumOps` and `ElectronicStructure` to Python Qiskit. In the future these might be used directly for calculations.\n",
    "\n",
    "\n",
    "The Python interface is a Python package `qiskit_alt`. This could contain a mixture of Julia and Python code. Or all the Julia code might be moved to the Julia packages.\n",
    "\n",
    "### Implementation\n",
    "\n",
    "In the examples above, the following happens.\n",
    "\n",
    "* Julia code calls `pyscf` and stores the results in Julia data structures.\n",
    "\n",
    "* These data are used to construct a Fermionic operator as a data structure defined in `QuantumOps`.\n",
    "\n",
    "* The Jordan-Wigner transform, implemented in `QuantumOps` is used to compute a Pauli operator.\n",
    "\n",
    "* The Pauli operator (as a structure in `QuantumOps`) is converted to a Qiskit-like operator defined in `QiskitQuantumInfo.jl`.\n",
    "\n",
    "* The operator defined in `QiskitQuantumInfo.jl` is sent to Python and converted to numpy arrays, which are then used to construct native Qiskit types. The conversion to numpy arrays is provided by `pyjulia`.\n",
    "\n",
    "### Complexity, dynamism\n",
    "\n",
    "* It is worth noting that operators in `QuantumOps` are *not* highly optimized implementations. In fact, much of the code for the two types of operators is shared, they inherit from a parent class. There are other implementations of Pauli operators in Julia that are much more efficient for instance in [`QuantumClifford.jl`](https://github.com/Krastanov/QuantumClifford.jl).\n",
    "\n",
    "* [Issue](https://github.ibm.com/John-Lapeyre/QuantumOps.jl/issues/6) for improving performance of Jordan-Wigner in `QuantumOps`.\n",
    "    * Precompute one and two-body terms\n",
    "    * Use @threads\n"
   ]
  },
  {
   "cell_type": "markdown",
   "id": "79a3380c",
   "metadata": {},
   "source": [
    "# More demos\n",
    "\n",
    "Here are some smaller scale demonstrations.\n",
    "\n",
    "## Converting a matrix to the Pauli basis\n",
    "\n",
    "Here we convert a matrix representing an operator in the computational basis to the Pauli basis.\n",
    "In this case, `qiskit_alt` is much more performant than `qiskit.quantum_info`.\n",
    "This is how it is done in `QuantumOps`."
   ]
  },
  {
   "cell_type": "code",
   "execution_count": 13,
   "id": "ffb3dd7d",
   "metadata": {},
   "outputs": [
    {
     "data": {
      "text/plain": [
       "SparsePauliOp(['III', 'XII', 'YII', 'ZII', 'IXI', 'XXI', 'YXI', 'ZXI', 'IYI', 'XYI', 'YYI', 'ZYI', 'IZI', 'XZI', 'YZI', 'ZZI', 'IIX', 'XIX', 'YIX', 'ZIX', 'IXX', 'XXX', 'YXX', 'ZXX', 'IYX', 'XYX', 'YYX', 'ZYX', 'IZX', 'XZX', 'YZX', 'ZZX', 'IIY', 'XIY', 'YIY', 'ZIY', 'IXY', 'XXY', 'YXY', 'ZXY', 'IYY', 'XYY', 'YYY', 'ZYY', 'IZY', 'XZY', 'YZY', 'ZZY', 'IIZ', 'XIZ', 'YIZ', 'ZIZ', 'IXZ', 'XXZ', 'YXZ', 'ZXZ', 'IYZ', 'XYZ', 'YYZ', 'ZYZ', 'IZZ', 'XZZ', 'YZZ', 'ZZZ'],\n",
       "              coeffs=[ 0.50984036+0.00000000e+00j,  0.37520081+0.00000000e+00j,\n",
       "  0.        -1.25691042e-01j,  0.15333533+0.00000000e+00j,\n",
       "  0.43236486+0.00000000e+00j,  0.4673399 +0.00000000e+00j,\n",
       "  0.        -9.29061785e-02j,  0.10976694+0.00000000e+00j,\n",
       "  0.        +1.24000327e-02j,  0.        +2.26919435e-01j,\n",
       "  0.18554457+0.00000000e+00j,  0.        -1.06701287e-01j,\n",
       " -0.11396592+0.00000000e+00j,  0.02640026+0.00000000e+00j,\n",
       "  0.        +1.84139363e-04j,  0.00822458+0.00000000e+00j,\n",
       "  0.4103655 +0.00000000e+00j,  0.46898728+0.00000000e+00j,\n",
       "  0.        -1.18968680e-01j, -0.21419044+0.00000000e+00j,\n",
       "  0.5498395 +0.00000000e+00j,  0.45621936+0.00000000e+00j,\n",
       "  0.        +8.70319742e-02j,  0.0052807 +0.00000000e+00j,\n",
       "  0.        +1.32342424e-01j,  0.        -5.64944693e-03j,\n",
       " -0.03605091-0.00000000e+00j,  0.        +8.26682926e-02j,\n",
       " -0.2147537 +0.00000000e+00j,  0.00425534+0.00000000e+00j,\n",
       "  0.        +1.55582696e-01j,  0.06701828+0.00000000e+00j,\n",
       "  0.        +1.68694998e-02j,  0.        -2.99774804e-02j,\n",
       "  0.16197186+0.00000000e+00j,  0.        -3.81845738e-02j,\n",
       "  0.        -1.21049063e-01j,  0.        +1.77314186e-02j,\n",
       " -0.15707699-0.00000000e+00j,  0.        +1.11650130e-01j,\n",
       " -0.04168514-0.00000000e+00j, -0.22009217-0.00000000e+00j,\n",
       "  0.        +1.61921883e-02j, -0.11731225-0.00000000e+00j,\n",
       "  0.        +3.59846648e-02j,  0.        -1.76563791e-01j,\n",
       "  0.11755003+0.00000000e+00j,  0.        -5.44311605e-02j,\n",
       "  0.22822512+0.00000000e+00j,  0.07604836+0.00000000e+00j,\n",
       "  0.        -3.20581469e-02j,  0.00695476+0.00000000e+00j,\n",
       "  0.04591164+0.00000000e+00j, -0.13203012+0.00000000e+00j,\n",
       "  0.        -1.39320699e-01j, -0.14722269+0.00000000e+00j,\n",
       "  0.        +2.27474318e-01j,  0.        +1.66624605e-02j,\n",
       " -0.03331422-0.00000000e+00j,  0.        +2.76703794e-04j,\n",
       "  0.02614869+0.00000000e+00j,  0.08087676+0.00000000e+00j,\n",
       "  0.        -1.00116586e-01j,  0.04492568+0.00000000e+00j])"
      ]
     },
     "execution_count": 13,
     "metadata": {},
     "output_type": "execute_result"
    }
   ],
   "source": [
    "from qiskit_alt import QuantumOps, PauliSum_to_SparsePauliOp\n",
    "import numpy as np\n",
    "m = np.random.rand(2**3, 2**3) # 3-qubit operator\n",
    "pauli_sum = QuantumOps.PauliSum(m) # This is a wrapped Julia object\n",
    "PauliSum_to_SparsePauliOp(pauli_sum) # Convert to qiskit.quantum_info.SparsePauliOp"
   ]
  },
  {
   "cell_type": "markdown",
   "id": "30f7fd72",
   "metadata": {},
   "source": [
    "Note that the `numpy` matrix was automatically converted to a Julia `Matrix`."
   ]
  },
  {
   "cell_type": "markdown",
   "id": "91145a9a",
   "metadata": {},
   "source": [
    "We run benchmarks of conversion of matrices to the Pauli basis."
   ]
  },
  {
   "cell_type": "code",
   "execution_count": 14,
   "id": "05bd2461",
   "metadata": {},
   "outputs": [
    {
     "name": "stdout",
     "output_type": "stream",
     "text": [
      "nqubits=2, 1.18 ms\n",
      "nqubits=3, 4.85 ms\n",
      "nqubits=4, 25.18 ms\n",
      "nqubits=5, 137.54 ms\n",
      "nqubits=6, 1009.72 ms\n",
      "nqubits=7, 8799.43 ms\n",
      "nqubits=8, 108867.59 ms\n"
     ]
    }
   ],
   "source": [
    "%run ../bench/from_matrix_quantum_info.py"
   ]
  },
  {
   "cell_type": "code",
   "execution_count": 15,
   "id": "ff36d6bb",
   "metadata": {},
   "outputs": [
    {
     "name": "stdout",
     "output_type": "stream",
     "text": [
      "nqubits=2, 0.75 ms\n",
      "nqubits=3, 0.84 ms\n",
      "nqubits=4, 3.49 ms\n",
      "nqubits=5, 5.23 ms\n",
      "nqubits=6, 22.39 ms\n",
      "nqubits=7, 110.32 ms\n",
      "nqubits=8, 656.34 ms\n"
     ]
    }
   ],
   "source": [
    "%run ../bench/from_matrix_alt.py"
   ]
  },
  {
   "cell_type": "markdown",
   "id": "d703c7e9",
   "metadata": {},
   "source": [
    "Here are the ratios of the times for `qiskit.quantum_info` to those for `qiskit_alt`."
   ]
  },
  {
   "cell_type": "code",
   "execution_count": 16,
   "id": "c0db5ac1",
   "metadata": {},
   "outputs": [
    {
     "data": {
      "text/plain": [
       "[1.5658879614192156,\n",
       " 5.739860256223572,\n",
       " 7.2102312566595685,\n",
       " 26.317532936650075,\n",
       " 45.089134443160745,\n",
       " 79.76375050261795,\n",
       " 165.87083460712748]"
      ]
     },
     "execution_count": 16,
     "metadata": {},
     "output_type": "execute_result"
    }
   ],
   "source": [
    "[t_pyqk / t_qk_alt for t_pyqk, t_qk_alt in zip(pyqk_times, qk_alt_times)]"
   ]
  },
  {
   "cell_type": "markdown",
   "id": "70110dd0",
   "metadata": {},
   "source": [
    "Again, the performance gain increases with the problem size."
   ]
  },
  {
   "cell_type": "markdown",
   "id": "2eb20bf9",
   "metadata": {},
   "source": [
    "## Creating a `SparsePauliOp` from a list of strings\n",
    "\n",
    "\n",
    "Here, we create a `SparsePauliOp` from a list of `n` strings, each with `k` single-Pauli factors, and simplify the result."
   ]
  },
  {
   "cell_type": "markdown",
   "id": "fff0ede3",
   "metadata": {},
   "source": [
    "First, using `qiskit.quantum_info`"
   ]
  },
  {
   "cell_type": "code",
   "execution_count": 17,
   "id": "9820ef9c",
   "metadata": {},
   "outputs": [
    {
     "name": "stdout",
     "output_type": "stream",
     "text": [
      "k=10, n=10, 0.3379025496542454 ms\n",
      "k=10, n=100, 1.5436640474945307 ms\n",
      "k=10, n=1000, 13.85800545103848 ms\n",
      "k=10, n=5000, 67.62067864183336 ms\n",
      "k=10, n=10000, 137.34887726604939 ms\n",
      "k=10, n=100000, 1396.8325019814074 ms\n",
      "k=100, n=10, 0.3659903537482023 ms\n",
      "k=100, n=100, 1.6624061157926917 ms\n",
      "k=100, n=1000, 14.924054243601859 ms\n",
      "k=100, n=5000, 73.60771629028022 ms\n",
      "k=100, n=10000, 151.67049085721374 ms\n",
      "k=100, n=100000, 1534.970625769347 ms\n"
     ]
    }
   ],
   "source": [
    "%run ../bench/pauli_from_list_qinfo.py"
   ]
  },
  {
   "cell_type": "markdown",
   "id": "ae953855",
   "metadata": {},
   "source": [
    "Now, using `qiskit_alt`"
   ]
  },
  {
   "cell_type": "code",
   "execution_count": 18,
   "id": "b67e7b89",
   "metadata": {},
   "outputs": [
    {
     "name": "stdout",
     "output_type": "stream",
     "text": [
      "k=10, n=10, 0.698221568018198 ms\n",
      "k=10, n=100, 0.7741700625047088 ms\n",
      "k=10, n=1000, 1.9150953041389585 ms\n",
      "k=10, n=5000, 9.954712656326592 ms\n",
      "k=10, n=10000, 18.018387840129435 ms\n",
      "k=10, n=100000, 203.53047845419496 ms\n",
      "k=100, n=10, 0.6988641107454896 ms\n",
      "k=100, n=100, 0.8893186692148447 ms\n",
      "k=100, n=1000, 6.8468364188447595 ms\n",
      "k=100, n=5000, 13.74192121438682 ms\n",
      "k=100, n=10000, 30.91609589755535 ms\n",
      "k=100, n=100000, 357.74553280789405 ms\n"
     ]
    }
   ],
   "source": [
    "%run ../bench/pauli_from_list_alt.py"
   ]
  },
  {
   "cell_type": "markdown",
   "id": "c71fed87",
   "metadata": {},
   "source": [
    "The results were written to lists `quantum_info_times` and `qkalt_times`. We compare the performance:"
   ]
  },
  {
   "cell_type": "code",
   "execution_count": 19,
   "id": "f1994df9",
   "metadata": {},
   "outputs": [
    {
     "data": {
      "text/plain": [
       "[0.4839474532609089,\n",
       " 1.9939598833107055,\n",
       " 7.236196246258953,\n",
       " 6.792830790435513,\n",
       " 7.622706231250861,\n",
       " 6.863013896445824,\n",
       " 0.5236931588285375,\n",
       " 1.8693030668752124,\n",
       " 2.179700715870168,\n",
       " 5.356435620749895,\n",
       " 4.9058746408276885,\n",
       " 4.290677269179519]"
      ]
     },
     "execution_count": 19,
     "metadata": {},
     "output_type": "execute_result"
    }
   ],
   "source": [
    "[x / y for x,y in zip(quantum_info_times, qkalt_times)]"
   ]
  },
  {
   "cell_type": "markdown",
   "id": "285b5001",
   "metadata": {},
   "source": [
    "We see that the performance improvement in `qiskit_alt` is significant, but does not increase with the number of terms `n`. Further benchmarks show that the time required to convert the strings from Python to Julia takes all the time.\n",
    "\n",
    "We see this in the following."
   ]
  },
  {
   "cell_type": "code",
   "execution_count": 20,
   "id": "5c233fbc",
   "metadata": {
    "scrolled": true
   },
   "outputs": [
    {
     "name": "stdout",
     "output_type": "stream",
     "text": [
      "Initializing Julia interpreter. This may take some time...\n"
     ]
    }
   ],
   "source": [
    "%load_ext julia.magic"
   ]
  },
  {
   "cell_type": "markdown",
   "id": "580b2121",
   "metadata": {},
   "source": [
    "Generate `1000` ten-qubit Pauli strings."
   ]
  },
  {
   "cell_type": "code",
   "execution_count": 21,
   "id": "fcfc089d",
   "metadata": {},
   "outputs": [],
   "source": [
    "%julia using Random: randstring\n",
    "%julia pauli_strings = [randstring(\"IXYZ\", 10) for _ in 1:1000]\n",
    "None;"
   ]
  },
  {
   "cell_type": "markdown",
   "id": "968e0737",
   "metadata": {},
   "source": [
    "Benchmark converting these to a `QuantumOps.PauliSum`. Note that as the sums are always sorted."
   ]
  },
  {
   "cell_type": "code",
   "execution_count": 22,
   "id": "2b5badfb",
   "metadata": {},
   "outputs": [
    {
     "name": "stdout",
     "output_type": "stream",
     "text": [
      "  352.993 μs (1012 allocations: 134.17 KiB)\n"
     ]
    }
   ],
   "source": [
    "%julia using BenchmarkTools: @btime\n",
    "%julia @btime QuantumOps.PauliSum($pauli_strings)\n",
    "None;"
   ]
  },
  {
   "cell_type": "markdown",
   "id": "a3bb0c4d",
   "metadata": {},
   "source": [
    "Check that we are actually getting the right result."
   ]
  },
  {
   "cell_type": "code",
   "execution_count": 23,
   "id": "48adac20",
   "metadata": {},
   "outputs": [
    {
     "name": "stdout",
     "output_type": "stream",
     "text": [
      "1000\n",
      "10-factor QuantumOps.PauliTerm{Vector{QuantumOps.Paulis.Pauli}, Complex{Int64}}:\n",
      "IIIIIIZIYZ * (1 + 0im)\n"
     ]
    }
   ],
   "source": [
    "%julia pauli_sum = QuantumOps.PauliSum(pauli_strings);\n",
    "%julia println(length(pauli_sum))\n",
    "%julia println(pauli_sum[1])"
   ]
  },
  {
   "cell_type": "code",
   "execution_count": 24,
   "id": "d1a6be7e",
   "metadata": {},
   "outputs": [
    {
     "data": {
      "text/plain": [
       "46.06705539358601"
      ]
     },
     "execution_count": 24,
     "metadata": {},
     "output_type": "execute_result"
    }
   ],
   "source": [
    "6.9 * 2.29 / .343  # Ratio of time to construct PauliSum via qiskit_alt to time in pure Julia"
   ]
  },
  {
   "cell_type": "markdown",
   "id": "5a57d303",
   "metadata": {},
   "source": [
    "So the pure Julia code is `46` times faster than the qiskit.quantum_info.\n",
    "**But, the `qiskit.quantum_info` is also extracting a possible phase !**"
   ]
  }
 ],
 "metadata": {
  "kernelspec": {
   "display_name": "env",
   "language": "python",
   "name": "env"
  },
  "language_info": {
   "codemirror_mode": {
    "name": "ipython",
    "version": 3
   },
   "file_extension": ".py",
   "mimetype": "text/x-python",
   "name": "python",
   "nbconvert_exporter": "python",
   "pygments_lexer": "ipython3",
   "version": "3.9.7"
  }
 },
 "nbformat": 4,
 "nbformat_minor": 5
}
