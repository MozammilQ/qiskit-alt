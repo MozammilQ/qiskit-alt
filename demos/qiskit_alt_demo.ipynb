{
 "cells": [
  {
   "cell_type": "markdown",
   "id": "3e23cbd3",
   "metadata": {},
   "source": [
    "# qiskit_alt\n",
    "\n",
    "This python package provides a thin wrapper around some features of Qiskit that have been (re-)implemented in Julia and provides a Python interface. The input and output of the Python interface are the same as the input and output to Python qiskit. At present, we have prepared two high level demonstrations\n",
    "\n",
    "* Performing the Jordan-Wigner transform from a Fermionic operator to a Pauli operator.\n",
    "\n",
    "* Computing the Fermionic operator from integrals computed by `pyscf`.\n",
    "\n",
    "In both cases, we will see that the `qiskit_alt` implementation is much more performant.\n",
    "\n",
    "We have also prepared some lower-level demonstrations of performance gains\n",
    "\n",
    "* Converting an operator from the computational basis to the Pauli basis.\n",
    "\n",
    "* Creating a `SparsePauliOp` from a list of strings"
   ]
  },
  {
   "cell_type": "markdown",
   "id": "86f7fd8f",
   "metadata": {},
   "source": [
    "The Python package has been installed in a virtual environment created with `python -m venv ./env`. The Julia packages have been installed in a local environment in the standard way, via a spec in `Project.toml` file.\n",
    "\n",
    "When we import the package `qiskit_alt`, the Julia environment is also activated."
   ]
  },
  {
   "cell_type": "code",
   "execution_count": 1,
   "id": "29b7099b",
   "metadata": {
    "scrolled": true
   },
   "outputs": [
    {
     "name": "stderr",
     "output_type": "stream",
     "text": [
      "┌ Warning: Package ElectronicStructure does not have PyCall in its dependencies:\n",
      "│ - If you have ElectronicStructure checked out for development and have\n",
      "│   added PyCall as a dependency but haven't updated your primary\n",
      "│   environment's manifest file, try `Pkg.resolve()`.\n",
      "│ - Otherwise you may need to report an issue with ElectronicStructure\n",
      "└ Loading PyCall into ElectronicStructure from project dependency, future warnings for ElectronicStructure are suppressed.\n"
     ]
    },
    {
     "name": "stdout",
     "output_type": "stream",
     "text": [
      "CPU times: user 1.45 s, sys: 622 ms, total: 2.08 s\n",
      "Wall time: 1.75 s\n"
     ]
    },
    {
     "name": "stderr",
     "output_type": "stream",
     "text": [
      "  Activating project at `~/myrepos/quantum_repos/qiskit_alt`\n"
     ]
    }
   ],
   "source": [
    "%time import qiskit_alt  # The message below is from Julia"
   ]
  },
  {
   "cell_type": "markdown",
   "id": "cb29172e",
   "metadata": {},
   "source": [
    "We assume that no one is familiar with Julia, much less with `pyjulia`, the package we use to call Julia from Python. So, we inject a bit of tutorial.\n",
    "\n",
    "The default `Module` in Julia `Main` is available. You can think of it as a namespace. And, as always, objects from the `Module` `Base` have been imported into `Main`.\n",
    "\n",
    "As an example of how `pyjulia` works, we create an `Array` of `Float64` zeros on the Julia side, and they are automatically copied to a numpy array when returned to Python."
   ]
  },
  {
   "cell_type": "code",
   "execution_count": 2,
   "id": "0f936bc8",
   "metadata": {},
   "outputs": [
    {
     "name": "stderr",
     "output_type": "stream",
     "text": [
      "┌ Warning: `vendor()` is deprecated, use `BLAS.get_config()` and inspect the output instead\n",
      "│   caller = npyinitialize() at numpy.jl:67\n",
      "└ @ PyCall ~/.julia/packages/PyCall/3fwVL/src/numpy.jl:67\n"
     ]
    },
    {
     "data": {
      "text/plain": [
       "array([0., 0., 0., 0., 0., 0., 0., 0., 0., 0.])"
      ]
     },
     "execution_count": 2,
     "metadata": {},
     "output_type": "execute_result"
    }
   ],
   "source": [
    "qiskit_alt.Main.zeros(10)"
   ]
  },
  {
   "cell_type": "markdown",
   "id": "b733f29d",
   "metadata": {},
   "source": [
    "There are several ways to call Julia from Python and vice versa, and to specifiy features such as the copying vs. sharing semantics. We won't go into any of this in this demo."
   ]
  },
  {
   "cell_type": "markdown",
   "id": "dea87cf9",
   "metadata": {},
   "source": [
    "## Electronic structure\n",
    "\n",
    "Part of a workflow for, say, VQE involves using qiskit-nature to do the following:\n",
    "* Get a description of a model Hamiltonian from the package `pyscf` by passing it a description of the geometry of a molecule.\n",
    "* Convert that description of a Hamiltonian to a qiskit-native Fermionic operator.\n",
    "* Convert the Fermionic operator to a qubit operator expressed in the Pauli basis.\n",
    "\n",
    "The last step above may be done in several ways, one of which is known as the Jordan-Wigner transform. It is this step that we will benchmark here."
   ]
  },
  {
   "cell_type": "markdown",
   "id": "c4ca7000",
   "metadata": {},
   "source": [
    "### qiskit-nature\n",
    "\n",
    "First, we see how this is done in qiskit-nature. We need to specify the geometry of the molecule and the\n",
    "[basis set](https://en.wikipedia.org/wiki/Basis_set_(chemistry)). We choose `sto3g`, one of the smallest, simplest, basis sets."
   ]
  },
  {
   "cell_type": "code",
   "execution_count": 3,
   "id": "ca1047f9",
   "metadata": {},
   "outputs": [],
   "source": [
    "from qiskit_nature.drivers import UnitsType, Molecule\n",
    "from qiskit_nature.drivers.second_quantization import ElectronicStructureDriverType, ElectronicStructureMoleculeDriver\n",
    "\n",
    "# Specify the geometry of the H_2 molecule\n",
    "geometry = [['H', [0., 0., 0.]],\n",
    "            ['H', [0., 0., 0.735]]]\n",
    "\n",
    "basis = 'sto3g'"
   ]
  },
  {
   "cell_type": "markdown",
   "id": "c6726e7d",
   "metadata": {},
   "source": [
    "Then, we compute the fermionic Hamiltonian like this."
   ]
  },
  {
   "cell_type": "code",
   "execution_count": 4,
   "id": "fc1697b6",
   "metadata": {},
   "outputs": [],
   "source": [
    "molecule = Molecule(geometry=geometry,\n",
    "                     charge=0, multiplicity=1)\n",
    "driver = ElectronicStructureMoleculeDriver(molecule, basis=basis, driver_type=ElectronicStructureDriverType.PYSCF)\n",
    "\n",
    "from qiskit_nature.problems.second_quantization import ElectronicStructureProblem\n",
    "from qiskit_nature.converters.second_quantization import QubitConverter\n",
    "from qiskit_nature.mappers.second_quantization import JordanWignerMapper\n",
    "\n",
    "es_problem = ElectronicStructureProblem(driver)\n",
    "second_q_op = es_problem.second_q_ops()\n",
    "\n",
    "fermionic_hamiltonian = second_q_op[0]"
   ]
  },
  {
   "cell_type": "markdown",
   "id": "f6000f0a",
   "metadata": {},
   "source": [
    "The Jordan-Wigner transform is performed like this."
   ]
  },
  {
   "cell_type": "code",
   "execution_count": 5,
   "id": "1d41dd67",
   "metadata": {},
   "outputs": [
    {
     "data": {
      "text/plain": [
       "SparsePauliOp(['IIII', 'ZIII', 'IZII', 'ZZII', 'IIZI', 'ZIZI', 'IZZI', 'IIIZ', 'ZIIZ', 'IZIZ', 'IIZZ', 'XXXX', 'YYXX', 'XXYY', 'YYYY'],\n",
       "              coeffs=[-0.81054798+0.j, -0.22575349+0.j,  0.17218393+0.j,  0.12091263+0.j,\n",
       " -0.22575349+0.j,  0.17464343+0.j,  0.16614543+0.j,  0.17218393+0.j,\n",
       "  0.16614543+0.j,  0.16892754+0.j,  0.12091263+0.j,  0.0452328 +0.j,\n",
       "  0.0452328 +0.j,  0.0452328 +0.j,  0.0452328 +0.j])"
      ]
     },
     "execution_count": 5,
     "metadata": {},
     "output_type": "execute_result"
    }
   ],
   "source": [
    "qubit_converter = QubitConverter(mapper=JordanWignerMapper())\n",
    "nature_qubit_op = qubit_converter.convert(fermionic_hamiltonian)\n",
    "nature_qubit_op.primitive"
   ]
  },
  {
   "cell_type": "markdown",
   "id": "f00c5538",
   "metadata": {},
   "source": [
    "### qiskit_alt\n",
    "\n",
    "The only high-level code in `qiskit_alt` was written to support this demo. So doing the JW-transform is less verbose."
   ]
  },
  {
   "cell_type": "code",
   "execution_count": 6,
   "id": "7ecebbe7",
   "metadata": {},
   "outputs": [
    {
     "data": {
      "text/plain": [
       "SparsePauliOp(['IIII', 'ZIII', 'IZII', 'ZZII', 'IIZI', 'ZIZI', 'IZZI', 'IIIZ', 'ZIIZ', 'IZIZ', 'IIZZ', 'XXXX', 'YYXX', 'XXYY', 'YYYY'],\n",
       "              coeffs=[-0.09057899+0.j, -0.22575349+0.j,  0.17218393+0.j,  0.12091263+0.j,\n",
       " -0.22575349+0.j,  0.17464343+0.j,  0.16614543+0.j,  0.17218393+0.j,\n",
       "  0.16614543+0.j,  0.16892754+0.j,  0.12091263+0.j,  0.0452328 +0.j,\n",
       "  0.0452328 +0.j,  0.0452328 +0.j,  0.0452328 +0.j])"
      ]
     },
     "execution_count": 6,
     "metadata": {},
     "output_type": "execute_result"
    }
   ],
   "source": [
    "fermi_op = qiskit_alt.fermionic_hamiltonian(geometry, basis)\n",
    "pauli_op = qiskit_alt.jordan_wigner(fermi_op)\n",
    "pauli_op.simplify() # The Julia Pauli operators use a different sorting convention; we sort again for comparison. "
   ]
  },
  {
   "cell_type": "markdown",
   "id": "6b8c6951",
   "metadata": {},
   "source": [
    "Note that the constant term differs. The qiskit-nature version ignores the nuclear-repulsion term. I need to open an issue about whether and how to handle it."
   ]
  },
  {
   "cell_type": "markdown",
   "id": "f32494c5",
   "metadata": {},
   "source": [
    "### Benchmarking\n",
    "\n",
    "Computing the Hamiltonian for a larger molecule or a larger basis set takes more time and produces a Hamiltonian with more factors and terms. Here we compare the performance of `qiskit_alt` and `qiskit-nature` on combinations of $\\text{H}_2$ and $\\text{H}_2\\text{O}$ molecules for several basis sets."
   ]
  },
  {
   "cell_type": "markdown",
   "id": "9c118b30",
   "metadata": {},
   "source": [
    "First we benchmark qiskit-nature, and record the times in `nature_times`."
   ]
  },
  {
   "cell_type": "code",
   "execution_count": 7,
   "id": "83562a9c",
   "metadata": {},
   "outputs": [
    {
     "name": "stdout",
     "output_type": "stream",
     "text": [
      "geometry=h2_geometry, basis='sto3g' 7.66 ms\n",
      "geometry=h2_geometry, basis='631g' 106.60 ms\n",
      "geometry=h2_geometry, basis='631++g' 552.72 ms\n",
      "geometry=h2o_geometry, basis='sto3g' 660.90 ms\n",
      "geometry=h2o_geometry, basis='631g' 18935.41 ms\n"
     ]
    },
    {
     "data": {
      "text/plain": [
       "[7.656608801335096,\n",
       " 106.60135103389621,\n",
       " 552.7241523377597,\n",
       " 660.9033947810531,\n",
       " 18935.412717051804]"
      ]
     },
     "execution_count": 7,
     "metadata": {},
     "output_type": "execute_result"
    }
   ],
   "source": [
    "%run ../bench/jordan_wigner_nature_time.py\n",
    "nature_times"
   ]
  },
  {
   "cell_type": "markdown",
   "id": "c6f6e210",
   "metadata": {},
   "source": [
    "Next we benchmark qiskit_alt, and record the times in `alt_times`."
   ]
  },
  {
   "cell_type": "code",
   "execution_count": 8,
   "id": "56f3abc4",
   "metadata": {
    "scrolled": true
   },
   "outputs": [
    {
     "name": "stdout",
     "output_type": "stream",
     "text": [
      "geometry=h2_geometry, basis='sto3g' 0.81 ms\n",
      "geometry=h2_geometry, basis='631g' 4.62 ms\n",
      "geometry=h2_geometry, basis='631++g' 22.79 ms\n",
      "geometry=h2o_geometry, basis='sto3g' 24.81 ms\n",
      "geometry=h2o_geometry, basis='631g' 610.96 ms\n"
     ]
    },
    {
     "data": {
      "text/plain": [
       "[0.8145153988152742,\n",
       " 4.624951025471091,\n",
       " 22.793370997533202,\n",
       " 24.814304616302252,\n",
       " 610.9592435881495]"
      ]
     },
     "execution_count": 8,
     "metadata": {},
     "output_type": "execute_result"
    }
   ],
   "source": [
    "%run ../bench/jordan_wigner_alt_time.py\n",
    "alt_times"
   ]
  },
  {
   "cell_type": "markdown",
   "id": "74a38fe5",
   "metadata": {},
   "source": [
    "We compare the relative performance."
   ]
  },
  {
   "cell_type": "code",
   "execution_count": 9,
   "id": "8269b475",
   "metadata": {
    "scrolled": false
   },
   "outputs": [
    {
     "data": {
      "text/plain": [
       "[9.400201411135697,\n",
       " 23.049184833916794,\n",
       " 24.24933777445986,\n",
       " 26.633967987434932,\n",
       " 30.992922876237312]"
      ]
     },
     "execution_count": 9,
     "metadata": {},
     "output_type": "execute_result"
    }
   ],
   "source": [
    "[t_nature / t_qk_alt for t_nature, t_qk_alt in zip(nature_times, alt_times)]"
   ]
  },
  {
   "cell_type": "markdown",
   "id": "e7e0524b",
   "metadata": {},
   "source": [
    "We see that\n",
    "* qiskit_alt is at least ten times faster\n",
    "* The relative performance increases as the problem in some sense gets larger.\n",
    "\n",
    "In fact, another problem, not shown here, finishes in 18s with qiskit_alt and in 5730s in qiskit-nature.\n",
    "In this case, `qiskit_alt` is 320 times faster than `qiskit-nature`. I don't have an idea about the origin of this scaling."
   ]
  },
  {
   "cell_type": "markdown",
   "id": "f6ca3e40",
   "metadata": {},
   "source": [
    "### Computing the Fermonic operator\n",
    "\n",
    "Computing the Fermionic operator from the output of `pyscf` is also much more efficient in `qiskit_alt`."
   ]
  },
  {
   "cell_type": "markdown",
   "id": "454098fd",
   "metadata": {},
   "source": [
    "We benchmark qiskit-nature computing the fermionic Hamiltonian"
   ]
  },
  {
   "cell_type": "code",
   "execution_count": 10,
   "id": "f832d231",
   "metadata": {},
   "outputs": [
    {
     "name": "stdout",
     "output_type": "stream",
     "text": [
      "geometry=h2_geometry, basis='sto3g' 58.86 ms\n",
      "geometry=h2_geometry, basis='631g' 99.53 ms\n",
      "geometry=h2_geometry, basis='631++g' 287.42 ms\n",
      "geometry=h2o_geometry, basis='sto3g' 462.66 ms\n",
      "geometry=h2o_geometry, basis='631g' 26914.56 ms\n"
     ]
    },
    {
     "data": {
      "text/plain": [
       "[58.86116256006062,\n",
       " 99.52874090522528,\n",
       " 287.4187276698649,\n",
       " 462.6607310026884,\n",
       " 26914.563833270222]"
      ]
     },
     "execution_count": 10,
     "metadata": {},
     "output_type": "execute_result"
    }
   ],
   "source": [
    "%run ../bench/fermionic_nature_time.py\n",
    "nature_times"
   ]
  },
  {
   "cell_type": "markdown",
   "id": "b97348b6",
   "metadata": {},
   "source": [
    "We benchmark qiskit_alt computing the fermionic Hamiltonian."
   ]
  },
  {
   "cell_type": "code",
   "execution_count": 11,
   "id": "9f4a3b2f",
   "metadata": {},
   "outputs": [
    {
     "name": "stdout",
     "output_type": "stream",
     "text": [
      "geometry=h2_geometry, basis='sto3g' 58.16 ms\n",
      "geometry=h2_geometry, basis='631g' 63.52 ms\n",
      "geometry=h2_geometry, basis='631++g' 65.49 ms\n",
      "geometry=h2o_geometry, basis='sto3g' 77.59 ms\n",
      "geometry=h2o_geometry, basis='631g' 189.62 ms\n"
     ]
    },
    {
     "data": {
      "text/plain": [
       "[58.16421820782125,\n",
       " 63.52486042305827,\n",
       " 65.48987100832164,\n",
       " 77.58940821513534,\n",
       " 189.624787773937]"
      ]
     },
     "execution_count": 11,
     "metadata": {},
     "output_type": "execute_result"
    }
   ],
   "source": [
    "%run ../bench/fermionic_alt_time.py\n",
    "alt_times"
   ]
  },
  {
   "cell_type": "markdown",
   "id": "63e28192",
   "metadata": {},
   "source": [
    "We compare the relative performance."
   ]
  },
  {
   "cell_type": "code",
   "execution_count": 12,
   "id": "3bb1c290",
   "metadata": {},
   "outputs": [
    {
     "data": {
      "text/plain": [
       "[1.0119823557113616,\n",
       " 1.5667683524590368,\n",
       " 4.388750859401498,\n",
       " 5.962936715793089,\n",
       " 141.9358942954055]"
      ]
     },
     "execution_count": 12,
     "metadata": {},
     "output_type": "execute_result"
    }
   ],
   "source": [
    "[t_nature / t_qk_alt for t_nature, t_qk_alt in zip(nature_times, alt_times)]"
   ]
  },
  {
   "cell_type": "markdown",
   "id": "3db8b937",
   "metadata": {},
   "source": [
    "We see again that, as the problem size increases, `qiskit_alt` is increasingly more performant."
   ]
  },
  {
   "cell_type": "markdown",
   "id": "4cd6b557",
   "metadata": {},
   "source": [
    "## Discussion\n",
    "\n",
    "The Julia implemenation consists of these packages\n",
    "\n",
    "* [`QuantumOps.jl`](https://github.ibm.com/IBM-Q-Software/QuantumOps.jl) implementing Fermionic and Pauli operators and calculations using them.\n",
    "\n",
    "* [`ElectronicStructure.jl`](https://github.ibm.com/IBM-Q-Software/ElectronicStructure.jl) provides an interface to electronic structure packages. Only one is supported, `pyscf`.\n",
    "\n",
    "* [`QiskitQuantumInfo.jl`](https://github.ibm.com/IBM-Q-Software/QiskitQuantumInfo.jl) provides data structures that mirror Python Qiskit data structures. These are used as intermedidate structures for converting from `QuantumOps` and `ElectronicStructure` to Python Qiskit. In the future these might be used directly for calculations.\n",
    "\n",
    "\n",
    "The Python interface is a Python package `qiskit_alt`. This could contain a mixture of Julia and Python code. Or all the Julia code might be moved to the Julia packages.\n",
    "\n",
    "### Implementation\n",
    "\n",
    "In the examples above, the following happens.\n",
    "\n",
    "* Julia code calls `pyscf` and stores the results in Julia data structures.\n",
    "\n",
    "* These data are used to construct a Fermionic operator as a data structure defined in `QuantumOps`.\n",
    "\n",
    "* The Jordan-Wigner transform, implemented in `QuantumOps` is used to compute a Pauli operator.\n",
    "\n",
    "* The Pauli operator (as a structure in `QuantumOps`) is converted to a Qiskit-like operator defined in `QiskitQuantumInfo.jl`.\n",
    "\n",
    "* The operator defined in `QiskitQuantumInfo.jl` is sent to Python and converted to numpy arrays, which are then used to construct native Qiskit types. The conversion to numpy arrays is provided by `pyjulia`.\n",
    "\n",
    "### Complexity, dynamism\n",
    "\n",
    "* It is worth noting that operators in `QuantumOps` are *not* highly optimized implementations. In fact, much of the code for the two types of operators is shared, they inherit from a parent class. There are other implementations of Pauli operators in Julia that are much more efficient for instance in [`QuantumClifford.jl`](https://github.com/Krastanov/QuantumClifford.jl).\n",
    "\n",
    "* Issue for improving performance of Jordan-Wigner in `QuantumOps`. (dead link)\n",
    "    * Precompute one and two-body terms\n",
    "    * Use @threads\n",
    "\n",
    "* This performance does not come at the cost of complexity, as with C++. Many people, including myself, find Julia to be more dynamic and expressive than Python. It is easier and faster to put ideas into code. The limitations of the language are less obtrusive."
   ]
  },
  {
   "cell_type": "markdown",
   "id": "a956440d",
   "metadata": {},
   "source": [
    "# More demos\n",
    "\n",
    "Here are some smaller scale demonstrations.\n",
    "\n",
    "## Converting a matrix to the Pauli basis\n",
    "\n",
    "Here we convert a matrix representing an operator in the computational basis to the Pauli basis.\n",
    "In this case, `qiskit_alt` is much more performant than `qiskit.quantum_info`.\n",
    "This is how it is done in `QuantumOps`."
   ]
  },
  {
   "cell_type": "code",
   "execution_count": 13,
   "id": "6fe3f63a",
   "metadata": {},
   "outputs": [
    {
     "data": {
      "text/plain": [
       "SparsePauliOp(['III', 'XII', 'YII', 'ZII', 'IXI', 'XXI', 'YXI', 'ZXI', 'IYI', 'XYI', 'YYI', 'ZYI', 'IZI', 'XZI', 'YZI', 'ZZI', 'IIX', 'XIX', 'YIX', 'ZIX', 'IXX', 'XXX', 'YXX', 'ZXX', 'IYX', 'XYX', 'YYX', 'ZYX', 'IZX', 'XZX', 'YZX', 'ZZX', 'IIY', 'XIY', 'YIY', 'ZIY', 'IXY', 'XXY', 'YXY', 'ZXY', 'IYY', 'XYY', 'YYY', 'ZYY', 'IZY', 'XZY', 'YZY', 'ZZY', 'IIZ', 'XIZ', 'YIZ', 'ZIZ', 'IXZ', 'XXZ', 'YXZ', 'ZXZ', 'IYZ', 'XYZ', 'YYZ', 'ZYZ', 'IZZ', 'XZZ', 'YZZ', 'ZZZ'],\n",
       "              coeffs=[ 0.36167864+0.j        ,  0.44256736+0.j        ,  0.        +0.17385289j,\n",
       " -0.00963684+0.j        ,  0.48750243+0.j        ,  0.54526115+0.j        ,\n",
       "  0.        -0.0456442j , -0.23274772+0.j        ,  0.        -0.02438793j,\n",
       "  0.        +0.34599419j, -0.02109277-0.j        ,  0.        -0.1148349j ,\n",
       " -0.1598183 +0.j        , -0.05453955+0.j        ,  0.        +0.14443188j,\n",
       " -0.09985007+0.j        ,  0.44338847+0.j        ,  0.33193302+0.j        ,\n",
       "  0.        -0.14491934j,  0.16912665+0.j        ,  0.56545419+0.j        ,\n",
       "  0.55128527+0.j        ,  0.        -0.15932612j,  0.00261607+0.j        ,\n",
       "  0.        -0.12336675j,  0.        +0.08757863j, -0.09396713-0.j        ,\n",
       "  0.        +0.03620698j,  0.09466959+0.j        ,  0.1410981 +0.j        ,\n",
       "  0.        -0.03566937j,  0.20589744+0.j        ,  0.        +0.07207951j,\n",
       "  0.        +0.17293887j,  0.02896757+0.j        ,  0.        -0.13895097j,\n",
       "  0.        +0.11418486j,  0.        +0.07349877j, -0.06564219-0.j        ,\n",
       "  0.        +0.12011042j, -0.02692784-0.j        , -0.12901501-0.j        ,\n",
       "  0.        +0.00163174j,  0.05161976+0.j        ,  0.        -0.07492822j,\n",
       "  0.        +0.0859427j ,  0.01183941+0.j        ,  0.        +0.08925783j,\n",
       " -0.14057123+0.j        , -0.05093413+0.j        ,  0.        -0.04223971j,\n",
       "  0.04030244+0.j        ,  0.02613973+0.j        ,  0.01021739+0.j        ,\n",
       "  0.        -0.00457303j,  0.01066617+0.j        ,  0.        -0.10742825j,\n",
       "  0.        +0.04879479j, -0.00236662-0.j        ,  0.        -0.01293976j,\n",
       "  0.0979672 +0.j        ,  0.03719675+0.j        ,  0.        +0.04517525j,\n",
       " -0.00659587+0.j        ])"
      ]
     },
     "execution_count": 13,
     "metadata": {},
     "output_type": "execute_result"
    }
   ],
   "source": [
    "from qiskit_alt import QuantumOps, PauliSum_to_SparsePauliOp\n",
    "import numpy as np\n",
    "m = np.random.rand(2**3, 2**3) # 3-qubit operator\n",
    "pauli_sum = QuantumOps.PauliSum(m) # This is a wrapped Julia object\n",
    "PauliSum_to_SparsePauliOp(pauli_sum) # Convert to qiskit.quantum_info.SparsePauliOp"
   ]
  },
  {
   "cell_type": "markdown",
   "id": "5eb9cb3f",
   "metadata": {},
   "source": [
    "Note that the `numpy` matrix was automatically converted to a Julia `Matrix`."
   ]
  },
  {
   "cell_type": "markdown",
   "id": "9b61ce3b",
   "metadata": {},
   "source": [
    "We run benchmarks of conversion of matrices to the Pauli basis."
   ]
  },
  {
   "cell_type": "code",
   "execution_count": 14,
   "id": "aa6ec1a4",
   "metadata": {},
   "outputs": [
    {
     "name": "stdout",
     "output_type": "stream",
     "text": [
      "nqubits=2, 1.18 ms\n",
      "nqubits=3, 4.82 ms\n",
      "nqubits=4, 23.88 ms\n",
      "nqubits=5, 138.06 ms\n",
      "nqubits=6, 1022.25 ms\n",
      "nqubits=7, 10594.26 ms\n",
      "nqubits=8, 193548.23 ms\n"
     ]
    }
   ],
   "source": [
    "%run ../bench/from_matrix_quantum_info.py"
   ]
  },
  {
   "cell_type": "code",
   "execution_count": 15,
   "id": "69607361",
   "metadata": {},
   "outputs": [
    {
     "name": "stdout",
     "output_type": "stream",
     "text": [
      "nqubits=2, 0.69 ms\n",
      "nqubits=3, 0.98 ms\n",
      "nqubits=4, 2.35 ms\n",
      "nqubits=5, 5.26 ms\n",
      "nqubits=6, 20.76 ms\n",
      "nqubits=7, 109.91 ms\n",
      "nqubits=8, 678.59 ms\n"
     ]
    }
   ],
   "source": [
    "%run ../bench/from_matrix_alt.py"
   ]
  },
  {
   "cell_type": "markdown",
   "id": "c1e07678",
   "metadata": {},
   "source": [
    "Here are the ratios of the times for `qiskit.quantum_info` to those for `qiskit_alt`."
   ]
  },
  {
   "cell_type": "code",
   "execution_count": 16,
   "id": "cf2f5d72",
   "metadata": {},
   "outputs": [
    {
     "data": {
      "text/plain": [
       "[1.7090704069086007,\n",
       " 4.903452167103316,\n",
       " 10.15225513145418,\n",
       " 26.26585593622417,\n",
       " 49.24302185276915,\n",
       " 96.39171775784796,\n",
       " 285.22090226385217]"
      ]
     },
     "execution_count": 16,
     "metadata": {},
     "output_type": "execute_result"
    }
   ],
   "source": [
    "[t_pyqk / t_qk_alt for t_pyqk, t_qk_alt in zip(pyqk_times, qk_alt_times)]"
   ]
  },
  {
   "cell_type": "markdown",
   "id": "9b6aa291",
   "metadata": {},
   "source": [
    "Again, the performance gain increases with the problem size."
   ]
  },
  {
   "cell_type": "markdown",
   "id": "2d0aa8a7",
   "metadata": {},
   "source": [
    "## Creating a `SparsePauliOp` from a list of strings\n",
    "\n",
    "\n",
    "Here, we create a `SparsePauliOp` from a list of `n` strings, each with `k` single-Pauli factors, and simplify the result."
   ]
  },
  {
   "cell_type": "markdown",
   "id": "de3bb08b",
   "metadata": {},
   "source": [
    "First, using `qiskit.quantum_info`"
   ]
  },
  {
   "cell_type": "code",
   "execution_count": 17,
   "id": "1c8c7843",
   "metadata": {},
   "outputs": [
    {
     "name": "stdout",
     "output_type": "stream",
     "text": [
      "k=10, n=10, 0.3352358005940914 ms\n",
      "k=10, n=100, 1.4932953054085374 ms\n",
      "k=10, n=1000, 13.1815773434937 ms\n",
      "k=10, n=5000, 64.84056019689888 ms\n",
      "k=10, n=10000, 132.04101705923676 ms\n",
      "k=10, n=100000, 1343.4543749317527 ms\n",
      "k=100, n=10, 0.35987640731036663 ms\n",
      "k=100, n=100, 1.6294995322823524 ms\n",
      "k=100, n=1000, 14.411044353619218 ms\n",
      "k=100, n=5000, 70.8200589986518 ms\n",
      "k=100, n=10000, 146.13588992506266 ms\n",
      "k=100, n=100000, 1589.302791748196 ms\n"
     ]
    }
   ],
   "source": [
    "%run ../bench/pauli_from_list_qinfo.py"
   ]
  },
  {
   "cell_type": "markdown",
   "id": "11947e77",
   "metadata": {},
   "source": [
    "Now, using `qiskit_alt`"
   ]
  },
  {
   "cell_type": "code",
   "execution_count": 18,
   "id": "36cb3682",
   "metadata": {},
   "outputs": [
    {
     "name": "stdout",
     "output_type": "stream",
     "text": [
      "k=10, n=10, 0.692426785826683 ms\n",
      "k=10, n=100, 0.8083696477115154 ms\n",
      "k=10, n=1000, 1.9238143926486373 ms\n",
      "k=10, n=5000, 9.923566551879048 ms\n",
      "k=10, n=10000, 17.970920214429498 ms\n",
      "k=10, n=100000, 200.83470665849745 ms\n",
      "k=100, n=10, 0.7023968966677785 ms\n",
      "k=100, n=100, 0.9085104800760746 ms\n",
      "k=100, n=1000, 6.763639650307596 ms\n",
      "k=100, n=5000, 14.152206457220018 ms\n",
      "k=100, n=10000, 30.098839686252177 ms\n",
      "k=100, n=100000, 340.11813204269856 ms\n"
     ]
    }
   ],
   "source": [
    "%run ../bench/pauli_from_list_alt.py"
   ]
  },
  {
   "cell_type": "markdown",
   "id": "aa8a88b1",
   "metadata": {},
   "source": [
    "The results were written to lists `quantum_info_times` and `qkalt_times`. We compare the performance:"
   ]
  },
  {
   "cell_type": "code",
   "execution_count": 19,
   "id": "014cabae",
   "metadata": {},
   "outputs": [
    {
     "data": {
      "text/plain": [
       "[0.48414620499386946,\n",
       " 1.8472926459275631,\n",
       " 6.85179266454379,\n",
       " 6.533997616474006,\n",
       " 7.347482237065205,\n",
       " 6.6893536345597076,\n",
       " 0.512354779779988,\n",
       " 1.7935946453208833,\n",
       " 2.130664124450189,\n",
       " 5.004170848745751,\n",
       " 4.855200115631404,\n",
       " 4.672796425768545]"
      ]
     },
     "execution_count": 19,
     "metadata": {},
     "output_type": "execute_result"
    }
   ],
   "source": [
    "[x / y for x,y in zip(quantum_info_times, qkalt_times)]"
   ]
  },
  {
   "cell_type": "markdown",
   "id": "3ddedd59",
   "metadata": {},
   "source": [
    "We see that the performance improvement in `qiskit_alt` is significant, but does not increase with the number of terms `n`. Further benchmarks show that the time required to convert the strings from Python to Julia takes all the time.\n",
    "\n",
    "We see this in the following."
   ]
  },
  {
   "cell_type": "code",
   "execution_count": 20,
   "id": "41d53597",
   "metadata": {
    "scrolled": true
   },
   "outputs": [
    {
     "name": "stdout",
     "output_type": "stream",
     "text": [
      "Initializing Julia interpreter. This may take some time...\n"
     ]
    }
   ],
   "source": [
    "%load_ext julia.magic"
   ]
  },
  {
   "cell_type": "markdown",
   "id": "8c768fd3",
   "metadata": {},
   "source": [
    "Generate `1000` ten-qubit Pauli strings."
   ]
  },
  {
   "cell_type": "code",
   "execution_count": 21,
   "id": "85ad72be",
   "metadata": {},
   "outputs": [],
   "source": [
    "%julia using Random: randstring\n",
    "%julia pauli_strings = [randstring(\"IXYZ\", 10) for _ in 1:1000]\n",
    "None;"
   ]
  },
  {
   "cell_type": "markdown",
   "id": "d5cddb8a",
   "metadata": {},
   "source": [
    "Benchmark converting these to a `QuantumOps.PauliSum`. Note that as the sums are always sorted."
   ]
  },
  {
   "cell_type": "code",
   "execution_count": 22,
   "id": "30d54493",
   "metadata": {},
   "outputs": [
    {
     "name": "stdout",
     "output_type": "stream",
     "text": [
      "  351.729 μs (1012 allocations: 134.17 KiB)\n"
     ]
    }
   ],
   "source": [
    "%julia using BenchmarkTools: @btime\n",
    "%julia @btime QuantumOps.PauliSum($pauli_strings)\n",
    "None;"
   ]
  },
  {
   "cell_type": "markdown",
   "id": "c9afc8c4",
   "metadata": {},
   "source": [
    "Check that we are actually getting the right result."
   ]
  },
  {
   "cell_type": "code",
   "execution_count": 23,
   "id": "fc47e723",
   "metadata": {},
   "outputs": [
    {
     "name": "stdout",
     "output_type": "stream",
     "text": [
      "999\n",
      "10-factor QuantumOps.PauliTerm{Vector{QuantumOps.Paulis.Pauli}, Complex{Int64}}:\n",
      "IIIIXZIIIZ * (1 + 0im)\n"
     ]
    }
   ],
   "source": [
    "%julia pauli_sum = QuantumOps.PauliSum(pauli_strings);\n",
    "%julia println(length(pauli_sum))\n",
    "%julia println(pauli_sum[1])"
   ]
  },
  {
   "cell_type": "code",
   "execution_count": 24,
   "id": "471fb068",
   "metadata": {},
   "outputs": [
    {
     "data": {
      "text/plain": [
       "46.06705539358601"
      ]
     },
     "execution_count": 24,
     "metadata": {},
     "output_type": "execute_result"
    }
   ],
   "source": [
    "6.9 * 2.29 / .343  # Ratio of time to construct PauliSum via qiskit_alt to time in pure Julia"
   ]
  },
  {
   "cell_type": "markdown",
   "id": "5eae44eb",
   "metadata": {},
   "source": [
    "So the pure Julia code is `46` times faster than the qiskit.quantum_info.\n",
    "**But, the `qiskit.quantum_info` is also extracting a possible phase !**"
   ]
  }
 ],
 "metadata": {
  "kernelspec": {
   "display_name": "env",
   "language": "python",
   "name": "env"
  },
  "language_info": {
   "codemirror_mode": {
    "name": "ipython",
    "version": 3
   },
   "file_extension": ".py",
   "mimetype": "text/x-python",
   "name": "python",
   "nbconvert_exporter": "python",
   "pygments_lexer": "ipython3",
   "version": "3.9.7"
  }
 },
 "nbformat": 4,
 "nbformat_minor": 5
}
