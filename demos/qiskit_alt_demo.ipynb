{
 "cells": [
  {
   "cell_type": "markdown",
   "id": "3e23cbd3",
   "metadata": {},
   "source": [
    "# qiskit_alt\n",
    "\n",
    "This python package provides a thin wrapper around some features of Qiskit that have been (re-)implemented in Julia and provides a Python interface. The input and output of the Python interface are the same as the input and output to Python qiskit. At present, we have prepared two high level demonstrations\n",
    "\n",
    "* Performing the Jordan-Wigner transform from a Fermionic operator to a Pauli operator.\n",
    "\n",
    "* Computing the Fermionic operator from integrals computed by `pyscf`.\n",
    "\n",
    "In both cases, we will see that the `qiskit_alt` implementation is much more performant.\n",
    "\n",
    "We have also prepared some lower-level demonstrations of performance gains\n",
    "\n",
    "* Converting an operator from the computational basis to the Pauli basis."
   ]
  },
  {
   "cell_type": "markdown",
   "id": "86f7fd8f",
   "metadata": {},
   "source": [
    "The Python package has been installed in a virtual environment created with `python -m venv ./env`. The Julia packages have been installed in a local environment in the standard way, via a spec in `Project.toml` file.\n",
    "\n",
    "When we import the package `qiskit_alt`, the Julia environment is also activated."
   ]
  },
  {
   "cell_type": "code",
   "execution_count": 1,
   "id": "29b7099b",
   "metadata": {
    "scrolled": true
   },
   "outputs": [
    {
     "name": "stderr",
     "output_type": "stream",
     "text": [
      "  Activating project at `~/myrepos/quantum_repos/qiskit_alt`\n"
     ]
    }
   ],
   "source": [
    "import qiskit_alt  # The message below is from Julia"
   ]
  },
  {
   "cell_type": "markdown",
   "id": "cb29172e",
   "metadata": {},
   "source": [
    "We assume that no one is familiar with Julia, much less with `pyjulia`, the package we use to call Julia from Python. So, we inject a bit of tutorial.\n",
    "\n",
    "The default `Module` in Julia `Main` is available. You can think of it as a namespace. And, as always, objects from the `Module` `Base` have been imported into `Main`.\n",
    "\n",
    "As an example of how `pyjulia` works, we create an `Array` of `Float64` zeros on the Julia side, and they are automatically copied to a numpy array when returned to Python."
   ]
  },
  {
   "cell_type": "code",
   "execution_count": 2,
   "id": "0f936bc8",
   "metadata": {},
   "outputs": [
    {
     "name": "stderr",
     "output_type": "stream",
     "text": [
      "┌ Warning: `vendor()` is deprecated, use `BLAS.get_config()` and inspect the output instead\n",
      "│   caller = npyinitialize() at numpy.jl:67\n",
      "└ @ PyCall ~/.julia/packages/PyCall/3fwVL/src/numpy.jl:67\n"
     ]
    },
    {
     "data": {
      "text/plain": [
       "array([0., 0., 0., 0., 0., 0., 0., 0., 0., 0.])"
      ]
     },
     "execution_count": 2,
     "metadata": {},
     "output_type": "execute_result"
    }
   ],
   "source": [
    "qiskit_alt.Main.zeros(10)"
   ]
  },
  {
   "cell_type": "markdown",
   "id": "b733f29d",
   "metadata": {},
   "source": [
    "There are several ways to call Julia from Python and vice versa, and to specifiy features such as the copying vs. sharing semantics. We won't go into any of this in this demo."
   ]
  },
  {
   "cell_type": "markdown",
   "id": "dea87cf9",
   "metadata": {},
   "source": [
    "## Electronic structure\n",
    "\n",
    "Part of a workflow for, say, VQE involves using qiskit-nature to do the following:\n",
    "* Get a description of a model Hamiltonian from the package `pyscf` by passing it a description of the geometry of a molecule.\n",
    "* Convert that description of a Hamiltonian to a qiskit-native Fermionic operator.\n",
    "* Convert the Fermionic operator to a qubit operator expressed in the Pauli basis.\n",
    "\n",
    "The last step above may be done in several ways, one of which is known as the Jordan-Wigner transform. It is this step that we will benchmark here."
   ]
  },
  {
   "cell_type": "markdown",
   "id": "c4ca7000",
   "metadata": {},
   "source": [
    "### qiskit-nature\n",
    "\n",
    "First, we see how this is done in qiskit-nature. We need to specify the geometry of the molecule and the\n",
    "[basis set](https://en.wikipedia.org/wiki/Basis_set_(chemistry)). We choose `sto3g`, one of the smallest, simplest, basis sets."
   ]
  },
  {
   "cell_type": "code",
   "execution_count": 3,
   "id": "ca1047f9",
   "metadata": {},
   "outputs": [],
   "source": [
    "from qiskit_nature.drivers import UnitsType, Molecule\n",
    "from qiskit_nature.drivers.second_quantization import ElectronicStructureDriverType, ElectronicStructureMoleculeDriver\n",
    "\n",
    "# Specify the geometry of the H_2 molecule\n",
    "geometry = [['H', [0., 0., 0.]],\n",
    "            ['H', [0., 0., 0.735]]]\n",
    "\n",
    "basis = 'sto3g'"
   ]
  },
  {
   "cell_type": "markdown",
   "id": "c6726e7d",
   "metadata": {},
   "source": [
    "Then, we compute the fermionic Hamiltonian like this."
   ]
  },
  {
   "cell_type": "code",
   "execution_count": 4,
   "id": "fc1697b6",
   "metadata": {},
   "outputs": [],
   "source": [
    "molecule = Molecule(geometry=geometry,\n",
    "                     charge=0, multiplicity=1)\n",
    "driver = ElectronicStructureMoleculeDriver(molecule, basis=basis, driver_type=ElectronicStructureDriverType.PYSCF)\n",
    "\n",
    "from qiskit_nature.problems.second_quantization import ElectronicStructureProblem\n",
    "from qiskit_nature.converters.second_quantization import QubitConverter\n",
    "from qiskit_nature.mappers.second_quantization import JordanWignerMapper\n",
    "\n",
    "es_problem = ElectronicStructureProblem(driver)\n",
    "second_q_op = es_problem.second_q_ops()\n",
    "\n",
    "fermionic_hamiltonian = second_q_op[0]"
   ]
  },
  {
   "cell_type": "markdown",
   "id": "f6000f0a",
   "metadata": {},
   "source": [
    "The Jordan-Wigner transform is performed like this."
   ]
  },
  {
   "cell_type": "code",
   "execution_count": 5,
   "id": "1d41dd67",
   "metadata": {},
   "outputs": [
    {
     "data": {
      "text/plain": [
       "SparsePauliOp(['IIII', 'ZIII', 'IZII', 'ZZII', 'IIZI', 'ZIZI', 'IZZI', 'IIIZ', 'ZIIZ', 'IZIZ', 'IIZZ', 'XXXX', 'YYXX', 'XXYY', 'YYYY'],\n",
       "              coeffs=[-0.81054798+0.j, -0.22575349+0.j,  0.17218393+0.j,  0.12091263+0.j,\n",
       " -0.22575349+0.j,  0.17464343+0.j,  0.16614543+0.j,  0.17218393+0.j,\n",
       "  0.16614543+0.j,  0.16892754+0.j,  0.12091263+0.j,  0.0452328 +0.j,\n",
       "  0.0452328 +0.j,  0.0452328 +0.j,  0.0452328 +0.j])"
      ]
     },
     "execution_count": 5,
     "metadata": {},
     "output_type": "execute_result"
    }
   ],
   "source": [
    "qubit_converter = QubitConverter(mapper=JordanWignerMapper())\n",
    "nature_qubit_op = qubit_converter.convert(fermionic_hamiltonian)\n",
    "nature_qubit_op.primitive"
   ]
  },
  {
   "cell_type": "markdown",
   "id": "f00c5538",
   "metadata": {},
   "source": [
    "### qiskit_alt\n",
    "\n",
    "The only high-level code in `qiskit_alt` was written to support this demo. So doing the JW-transform is less verbose."
   ]
  },
  {
   "cell_type": "code",
   "execution_count": 6,
   "id": "7ecebbe7",
   "metadata": {},
   "outputs": [
    {
     "data": {
      "text/plain": [
       "SparsePauliOp(['IIII', 'ZIII', 'IZII', 'ZZII', 'IIZI', 'ZIZI', 'IZZI', 'IIIZ', 'ZIIZ', 'IZIZ', 'IIZZ', 'XXXX', 'YYXX', 'XXYY', 'YYYY'],\n",
       "              coeffs=[-0.09057899+0.j, -0.22575349+0.j,  0.17218393+0.j,  0.12091263+0.j,\n",
       " -0.22575349+0.j,  0.17464343+0.j,  0.16614543+0.j,  0.17218393+0.j,\n",
       "  0.16614543+0.j,  0.16892754+0.j,  0.12091263+0.j,  0.0452328 +0.j,\n",
       "  0.0452328 +0.j,  0.0452328 +0.j,  0.0452328 +0.j])"
      ]
     },
     "execution_count": 6,
     "metadata": {},
     "output_type": "execute_result"
    }
   ],
   "source": [
    "fermi_op = qiskit_alt.fermionic_hamiltonian(geometry, basis)\n",
    "pauli_op = qiskit_alt.qubit_hamiltonian(fermi_op)\n",
    "pauli_op.simplify() # The Julia Pauli operators use a different sorting convention; we sort again for comparison. "
   ]
  },
  {
   "cell_type": "markdown",
   "id": "f32494c5",
   "metadata": {},
   "source": [
    "### Benchmarking\n",
    "\n",
    "Computing the Hamiltonian for a larger molecule or a larger basis set takes more time and produces a Hamiltonian with more factors and terms. Here we compare the performance of `qiskit_alt` and `qiskit-nature` on combinations of $\\text{H}_2$ and $\\text{H}_2\\text{O}$ molecules for several basis sets."
   ]
  },
  {
   "cell_type": "markdown",
   "id": "9c118b30",
   "metadata": {},
   "source": [
    "First we benchmark qiskit-nature, which records the times in `nature_times`."
   ]
  },
  {
   "cell_type": "code",
   "execution_count": 7,
   "id": "83562a9c",
   "metadata": {},
   "outputs": [
    {
     "name": "stdout",
     "output_type": "stream",
     "text": [
      "geometry=h2_geometry, basis='sto3g' 8.12 ms\n",
      "geometry=h2_geometry, basis='631g' 108.14 ms\n",
      "geometry=h2_geometry, basis='631++g' 563.58 ms\n",
      "geometry=h2o_geometry, basis='sto3g' 665.99 ms\n",
      "geometry=h2o_geometry, basis='631g' 19161.12 ms\n"
     ]
    },
    {
     "data": {
      "text/plain": [
       "[8.117510983720422,\n",
       " 108.13769628293812,\n",
       " 563.5829328559339,\n",
       " 665.9909158013761,\n",
       " 19161.11534414813]"
      ]
     },
     "execution_count": 7,
     "metadata": {},
     "output_type": "execute_result"
    }
   ],
   "source": [
    "%run ../bench/jordan_wigner_nature_time.py\n",
    "nature_times"
   ]
  },
  {
   "cell_type": "markdown",
   "id": "c6f6e210",
   "metadata": {},
   "source": [
    "Next we benchmark qiskit_alt, which records the times in `alt_times`."
   ]
  },
  {
   "cell_type": "code",
   "execution_count": 8,
   "id": "56f3abc4",
   "metadata": {
    "scrolled": true
   },
   "outputs": [
    {
     "name": "stdout",
     "output_type": "stream",
     "text": [
      "geometry=h2_geometry, basis='sto3g' 0.81 ms\n",
      "geometry=h2_geometry, basis='631g' 5.31 ms\n",
      "geometry=h2_geometry, basis='631++g' 27.45 ms\n",
      "geometry=h2o_geometry, basis='sto3g' 25.60 ms\n",
      "geometry=h2o_geometry, basis='631g' 601.39 ms\n"
     ]
    },
    {
     "data": {
      "text/plain": [
       "[0.8140197023749352,\n",
       " 5.314521677792072,\n",
       " 27.44855098426342,\n",
       " 25.59504983946681,\n",
       " 601.3947255909443]"
      ]
     },
     "execution_count": 8,
     "metadata": {},
     "output_type": "execute_result"
    }
   ],
   "source": [
    "%run ../bench/jordan_wigner_alt_time.py\n",
    "alt_times"
   ]
  },
  {
   "cell_type": "markdown",
   "id": "74a38fe5",
   "metadata": {},
   "source": [
    "We compare the relative performance."
   ]
  },
  {
   "cell_type": "code",
   "execution_count": 9,
   "id": "8269b475",
   "metadata": {
    "scrolled": false
   },
   "outputs": [
    {
     "data": {
      "text/plain": [
       "[9.972130846510542,\n",
       " 20.347587767835417,\n",
       " 20.53233823450435,\n",
       " 26.020301580911077,\n",
       " 31.861129685365924]"
      ]
     },
     "execution_count": 9,
     "metadata": {},
     "output_type": "execute_result"
    }
   ],
   "source": [
    "[t_nature / t_qk_alt for t_nature, t_qk_alt in zip(nature_times, alt_times)]"
   ]
  },
  {
   "cell_type": "markdown",
   "id": "e7e0524b",
   "metadata": {},
   "source": [
    "We see that\n",
    "* qiskit_alt is at least ten times faster\n",
    "* The relative performance increases as the problem in some sense gets larger.\n",
    "\n",
    "In fact, another problem, not shown here, finishes in 18s with qiskit_alt and in 5730s in qiskit-nature.\n",
    "In this case, `qiskit_alt` is 320 times faster than `qiskit-nature`. I don't have an idea about the origin of this scaling."
   ]
  },
  {
   "cell_type": "markdown",
   "id": "f6ca3e40",
   "metadata": {},
   "source": [
    "### Computing the Fermonic operator\n",
    "\n",
    "Computing the Fermionic operator from the output of `pyscf` is also much more efficient in `qiskit_alt`."
   ]
  },
  {
   "cell_type": "markdown",
   "id": "018b1ba7",
   "metadata": {},
   "source": [
    "We benchmark qiskit-nature computing the fermionic Hamiltonian"
   ]
  },
  {
   "cell_type": "code",
   "execution_count": 10,
   "id": "97206ccf",
   "metadata": {},
   "outputs": [
    {
     "name": "stdout",
     "output_type": "stream",
     "text": [
      "geometry=h2_geometry, basis='sto3g' 58.49 ms\n",
      "geometry=h2_geometry, basis='631g' 99.97 ms\n",
      "geometry=h2_geometry, basis='631++g' 293.18 ms\n",
      "geometry=h2o_geometry, basis='sto3g' 460.98 ms\n",
      "geometry=h2o_geometry, basis='631g' 27068.14 ms\n"
     ]
    },
    {
     "data": {
      "text/plain": [
       "[58.490909077227116,\n",
       " 99.97380957938731,\n",
       " 293.18450139835477,\n",
       " 460.9842232428491,\n",
       " 27068.13617516309]"
      ]
     },
     "execution_count": 10,
     "metadata": {},
     "output_type": "execute_result"
    }
   ],
   "source": [
    "%run ../bench/fermionic_nature_time.py\n",
    "nature_times"
   ]
  },
  {
   "cell_type": "markdown",
   "id": "a6d77508",
   "metadata": {},
   "source": [
    "We benchmark qiskit_alt computing the fermionic Hamiltonian."
   ]
  },
  {
   "cell_type": "code",
   "execution_count": 11,
   "id": "0b4e5dd1",
   "metadata": {},
   "outputs": [
    {
     "name": "stdout",
     "output_type": "stream",
     "text": [
      "geometry=h2_geometry, basis='sto3g' 58.58 ms\n",
      "geometry=h2_geometry, basis='631g' 61.78 ms\n",
      "geometry=h2_geometry, basis='631++g' 65.26 ms\n",
      "geometry=h2o_geometry, basis='sto3g' 78.22 ms\n",
      "geometry=h2o_geometry, basis='631g' 214.97 ms\n"
     ]
    },
    {
     "data": {
      "text/plain": [
       "[58.581056306138635,\n",
       " 61.77768390625715,\n",
       " 65.26236040517688,\n",
       " 78.22452755644917,\n",
       " 214.97237859293818]"
      ]
     },
     "execution_count": 11,
     "metadata": {},
     "output_type": "execute_result"
    }
   ],
   "source": [
    "%run ../bench/fermionic_alt_time.py\n",
    "alt_times"
   ]
  },
  {
   "cell_type": "markdown",
   "id": "354c466c",
   "metadata": {},
   "source": [
    "We compare the relative performance."
   ]
  },
  {
   "cell_type": "code",
   "execution_count": 12,
   "id": "340d6870",
   "metadata": {},
   "outputs": [
    {
     "data": {
      "text/plain": [
       "[0.9984611539191028,\n",
       " 1.6182835493005827,\n",
       " 4.492398061886498,\n",
       " 5.893090538772369,\n",
       " 125.91448423435864]"
      ]
     },
     "execution_count": 12,
     "metadata": {},
     "output_type": "execute_result"
    }
   ],
   "source": [
    "[t_nature / t_qk_alt for t_nature, t_qk_alt in zip(nature_times, alt_times)]"
   ]
  },
  {
   "cell_type": "markdown",
   "id": "ba60e45d",
   "metadata": {},
   "source": [
    "We see again that, as the problem size increases, `qiskit_alt` is increasingly more performant."
   ]
  },
  {
   "cell_type": "markdown",
   "id": "b56ba821",
   "metadata": {},
   "source": [
    "## Discussion\n",
    "\n",
    "The Julia implemenation consists of these packages\n",
    "\n",
    "* [`QuantumOps.jl`](https://github.com/jlapeyre/QuantumOps.jl) implementing Fermionic and Pauli operators and calculations using them.\n",
    "\n",
    "* [`ElectronicStructure.jl`](https://github.com/jlapeyre/ElectronicStructure.jl) provides an interface to electronic structure packages. Only one is supported, `pyscf`.\n",
    "\n",
    "* [`QiskitQuantumInfo.jl`](https://github.com/jlapeyre/QiskitQuantumInfo.jl) provides data structures that mirror Python Qiskit data structures. These are used as intermedidate structures for converting from `QuantumOps` and `ElectronicStructure` to Python Qiskit. In the future these might be used directly for calculations.\n",
    "\n",
    "\n",
    "The Python interface is a Python package `qiskit_alt`. This could contain a mixture of Julia and Python code. Or all the Julia code might be moved to the Julia packages.\n",
    "\n",
    "### Implementation\n",
    "\n",
    "In the examples above, the following happens.\n",
    "\n",
    "* Julia code calls `pyscf` and stores the results in Julia data structures.\n",
    "\n",
    "* These data are used to construct a Fermionic operator as a data structure defined in `QuantumOps`.\n",
    "\n",
    "* The Jordan-Wigner transform, implemented in `QuantumOps` is used to compute a Pauli operator.\n",
    "\n",
    "* The Pauli operator (as a structure in `QuantumOps`) is converted to a Qiskit-like operator defined in `QiskitQuantumInfo.jl`.\n",
    "\n",
    "* The operator defined in `QiskitQuantumInfo.jl` is sent to Python and converted to numpy arrays, which are then used to construct native Qiskit types. The conversion to numpy arrays is provided by `pyjulia`.\n",
    "\n",
    "### Complexity, dynamism\n",
    "\n",
    "* It is worth noting that operators in `QuantumOps` are *not* highly optimized implementations. In fact, much of the code for the two types of operators is shared, they inherit from a parent class. There are other implementations of Pauli operators in Julia that are much more efficient for instance in [`QuantumClifford.jl`](https://github.com/Krastanov/QuantumClifford.jl).\n",
    "\n",
    "* This performance does not come at the cost of complexity, as with C++. Many people, including myself, find Julia to be more dynamic and expressive than Python. It is easier and faster to put ideas into code. The limitations of the language are less obtrusive."
   ]
  },
  {
   "cell_type": "markdown",
   "id": "7eed3fad",
   "metadata": {},
   "source": [
    "# More demos\n",
    "\n",
    "Here are some smaller scale demonstrations.\n",
    "\n",
    "## Converting a matrix to the Pauli basis\n",
    "\n",
    "Here we convert a matrix representing an operator in the computational basis to the Pauli basis.\n",
    "In this case, `qiskit_alt` is much more performant than `qiskit.quantum_info`.\n",
    "This is how it is done in `QuantumOps`."
   ]
  },
  {
   "cell_type": "code",
   "execution_count": 13,
   "id": "f7241ed9",
   "metadata": {},
   "outputs": [
    {
     "data": {
      "text/plain": [
       "SparsePauliOp(['III', 'XII', 'YII', 'ZII', 'IXI', 'XXI', 'YXI', 'ZXI', 'IYI', 'XYI', 'YYI', 'ZYI', 'IZI', 'XZI', 'YZI', 'ZZI', 'IIX', 'XIX', 'YIX', 'ZIX', 'IXX', 'XXX', 'YXX', 'ZXX', 'IYX', 'XYX', 'YYX', 'ZYX', 'IZX', 'XZX', 'YZX', 'ZZX', 'IIY', 'XIY', 'YIY', 'ZIY', 'IXY', 'XXY', 'YXY', 'ZXY', 'IYY', 'XYY', 'YYY', 'ZYY', 'IZY', 'XZY', 'YZY', 'ZZY', 'IIZ', 'XIZ', 'YIZ', 'ZIZ', 'IXZ', 'XXZ', 'YXZ', 'ZXZ', 'IYZ', 'XYZ', 'YYZ', 'ZYZ', 'IZZ', 'XZZ', 'YZZ', 'ZZZ'],\n",
       "              coeffs=[ 3.88381220e-01+0.j        ,  5.32465330e-01+0.j        ,\n",
       "  0.00000000e+00+0.14908267j, -2.08051975e-01+0.j        ,\n",
       "  4.90641943e-01+0.j        ,  5.42657962e-01+0.j        ,\n",
       "  0.00000000e+00-0.03600403j, -1.58045678e-01+0.j        ,\n",
       "  0.00000000e+00+0.11658117j,  0.00000000e+00-0.02527994j,\n",
       "  1.18291063e-01+0.j        ,  0.00000000e+00-0.00073637j,\n",
       " -1.53158707e-01+0.j        , -9.35718726e-02+0.j        ,\n",
       "  0.00000000e+00-0.09918959j,  8.08092276e-02+0.j        ,\n",
       "  5.35804879e-01+0.j        ,  5.76092538e-01+0.j        ,\n",
       "  0.00000000e+00-0.19838478j,  7.01193929e-02+0.j        ,\n",
       "  4.01590311e-01+0.j        ,  5.23323513e-01+0.j        ,\n",
       "  0.00000000e+00+0.09263382j,  1.74857716e-02+0.j        ,\n",
       "  0.00000000e+00+0.01152526j,  0.00000000e+00-0.06261981j,\n",
       "  5.73874564e-02+0.j        ,  0.00000000e+00+0.27676988j,\n",
       "  5.39565014e-02+0.j        ,  3.53368476e-02+0.j        ,\n",
       "  0.00000000e+00+0.03656821j,  2.06671544e-01+0.j        ,\n",
       "  0.00000000e+00+0.10127212j,  0.00000000e+00-0.11190324j,\n",
       "  8.24273173e-02+0.j        ,  0.00000000e+00+0.04879312j,\n",
       "  0.00000000e+00+0.09908078j,  0.00000000e+00+0.02170262j,\n",
       "  3.02979831e-01+0.j        ,  0.00000000e+00-0.11032249j,\n",
       "  1.15319042e-01+0.j        ,  4.87204413e-02+0.j        ,\n",
       "  0.00000000e+00-0.02118414j,  1.41989422e-03+0.j        ,\n",
       "  0.00000000e+00+0.07800177j,  0.00000000e+00-0.08232966j,\n",
       "  9.49369883e-02+0.j        ,  0.00000000e+00-0.17629028j,\n",
       " -6.75898048e-02+0.j        ,  2.07799830e-01+0.j        ,\n",
       "  0.00000000e+00+0.0412502j ,  1.06695308e-01+0.j        ,\n",
       " -2.94866206e-02+0.j        ,  8.88577002e-05+0.j        ,\n",
       "  0.00000000e+00+0.25493253j,  1.50087901e-01+0.j        ,\n",
       "  0.00000000e+00+0.18098495j,  0.00000000e+00+0.00132958j,\n",
       "  4.40785311e-02+0.j        ,  0.00000000e+00+0.08338213j,\n",
       " -7.67386095e-02+0.j        ,  1.54870325e-01+0.j        ,\n",
       "  0.00000000e+00+0.00522128j,  5.99477550e-02+0.j        ])"
      ]
     },
     "execution_count": 13,
     "metadata": {},
     "output_type": "execute_result"
    }
   ],
   "source": [
    "from qiskit_alt import QuantumOps, PauliSum_to_SparsePauliOp\n",
    "import numpy as np\n",
    "m = np.random.rand(2**3, 2**3) # 3-qubit operator\n",
    "pauli_sum = QuantumOps.PauliSum(m) # This is a wrapped Julia object\n",
    "PauliSum_to_SparsePauliOp(pauli_sum) # Convert to qiskit.quantum_info.SparsePauliOp"
   ]
  },
  {
   "cell_type": "markdown",
   "id": "8aebd59e",
   "metadata": {},
   "source": [
    "Note that the `numpy` matrix was automatically converted to a Julia `Matrix`."
   ]
  },
  {
   "cell_type": "markdown",
   "id": "3cf44812",
   "metadata": {},
   "source": [
    "We run benchmarks of conversion of matrices to the Pauli basis."
   ]
  },
  {
   "cell_type": "code",
   "execution_count": 14,
   "id": "1dd36820",
   "metadata": {},
   "outputs": [
    {
     "name": "stdout",
     "output_type": "stream",
     "text": [
      "nqubits=2, 1.16 ms\n",
      "nqubits=3, 4.72 ms\n",
      "nqubits=4, 23.24 ms\n",
      "nqubits=5, 134.58 ms\n",
      "nqubits=6, 994.52 ms\n",
      "nqubits=7, 10708.95 ms\n",
      "nqubits=8, 194281.00 ms\n"
     ]
    }
   ],
   "source": [
    "%run ../bench/from_matrix_quantum_info.py"
   ]
  },
  {
   "cell_type": "code",
   "execution_count": 15,
   "id": "46a23373",
   "metadata": {},
   "outputs": [
    {
     "name": "stdout",
     "output_type": "stream",
     "text": [
      "nqubits=2, 0.68 ms\n",
      "nqubits=3, 0.78 ms\n",
      "nqubits=4, 11.52 ms\n",
      "nqubits=5, 28.15 ms\n",
      "nqubits=6, 27.68 ms\n",
      "nqubits=7, 113.21 ms\n",
      "nqubits=8, 603.29 ms\n"
     ]
    }
   ],
   "source": [
    "%run ../bench/from_matrix_alt.py"
   ]
  },
  {
   "cell_type": "markdown",
   "id": "0216bbc0",
   "metadata": {},
   "source": [
    "Here are the ratios of the times for `qiskit.quantum_info` to those for `qiskit_alt`."
   ]
  },
  {
   "cell_type": "code",
   "execution_count": 16,
   "id": "a780491e",
   "metadata": {},
   "outputs": [
    {
     "data": {
      "text/plain": [
       "[1.7070298345532198,\n",
       " 6.0833434027229805,\n",
       " 2.016501257638242,\n",
       " 4.780716334331067,\n",
       " 35.92772747539492,\n",
       " 94.59346712443646,\n",
       " 322.0351650952433]"
      ]
     },
     "execution_count": 16,
     "metadata": {},
     "output_type": "execute_result"
    }
   ],
   "source": [
    "[t_pyqk / t_qk_alt for t_pyqk, t_qk_alt in zip(pyqk_times, qk_alt_times)]"
   ]
  },
  {
   "cell_type": "markdown",
   "id": "6a1f66e6",
   "metadata": {},
   "source": [
    "Again, the performance gain increases with the problem size."
   ]
  },
  {
   "cell_type": "markdown",
   "id": "536494bc",
   "metadata": {},
   "source": [
    "## Creating a `SparsePauliOp` from a list of strings\n",
    "\n",
    "\n",
    "Here, we create a `SparsePauliOp` from a list of `n` strings, each with `k` single-Pauli factors, and simplify the result."
   ]
  },
  {
   "cell_type": "markdown",
   "id": "fd88b49f",
   "metadata": {},
   "source": [
    "First, using `qiskit.quantum_info`"
   ]
  },
  {
   "cell_type": "code",
   "execution_count": 17,
   "id": "c16e6847",
   "metadata": {},
   "outputs": [
    {
     "name": "stdout",
     "output_type": "stream",
     "text": [
      "k=10, n=10, 0.00034175594337284567 sec\n",
      "k=10, n=100, 0.0016513901995494963 sec\n",
      "k=10, n=1000, 0.013844832358881832 sec\n",
      "k=10, n=5000, 0.06792515469714999 sec\n",
      "k=10, n=10000, 0.1374026113189757 sec\n",
      "k=10, n=100000, 1.390079686883837 sec\n",
      "k=100, n=10, 0.0003708278527483344 sec\n",
      "k=100, n=100, 0.001680322433821857 sec\n",
      "k=100, n=1000, 0.015005420404486358 sec\n",
      "k=100, n=5000, 0.07447947694454342 sec\n",
      "k=100, n=10000, 0.15302739711478353 sec\n",
      "k=100, n=100000, 1.5492611401714385 sec\n"
     ]
    }
   ],
   "source": [
    "%run ../bench/pauli_from_list_qinfo.py"
   ]
  },
  {
   "cell_type": "markdown",
   "id": "b8daf0b3",
   "metadata": {},
   "source": [
    "Now, using `qiskit_alt`"
   ]
  },
  {
   "cell_type": "code",
   "execution_count": 18,
   "id": "e6fb0b54",
   "metadata": {},
   "outputs": [
    {
     "name": "stdout",
     "output_type": "stream",
     "text": [
      "k=10, n=10, 0.01730599331203848 sec\n",
      "k=10, n=100, 0.0007586243329569698 sec\n",
      "k=10, n=1000, 0.0018087288364768029 sec\n",
      "k=10, n=5000, 0.008252075244672596 sec\n",
      "k=10, n=10000, 0.016550637548789382 sec\n",
      "k=10, n=100000, 0.18883962654508651 sec\n",
      "k=100, n=10, 0.0007047933991998434 sec\n",
      "k=100, n=100, 0.0008528033504262567 sec\n",
      "k=100, n=1000, 0.0027765627484768627 sec\n",
      "k=100, n=5000, 0.01570416670292616 sec\n",
      "k=100, n=10000, 0.027043094113469123 sec\n",
      "k=100, n=100000, 0.3140773644903675 sec\n"
     ]
    }
   ],
   "source": [
    "%run ../bench/pauli_from_list_alt.py"
   ]
  },
  {
   "cell_type": "markdown",
   "id": "3dee38e2",
   "metadata": {},
   "source": [
    "The results were written to lists `quantum_info_times` and `qkalt_times`. We compare the performance:"
   ]
  },
  {
   "cell_type": "code",
   "execution_count": 19,
   "id": "dd45cf4a",
   "metadata": {},
   "outputs": [
    {
     "data": {
      "text/plain": [
       "[0.019747837480967458,\n",
       " 2.176822081507324,\n",
       " 7.654454376837372,\n",
       " 8.231281548359773,\n",
       " 8.301952774564034,\n",
       " 7.361165197771389,\n",
       " 0.5261511432560771,\n",
       " 1.9703515857225251,\n",
       " 5.404315250111985,\n",
       " 4.742657051052931,\n",
       " 5.658649726717716,\n",
       " 4.932737329496259]"
      ]
     },
     "execution_count": 19,
     "metadata": {},
     "output_type": "execute_result"
    }
   ],
   "source": [
    "[x / y for x,y in zip(quantum_info_times, qkalt_times)]"
   ]
  },
  {
   "cell_type": "markdown",
   "id": "a254d294",
   "metadata": {},
   "source": [
    "We see that the performance improvement in `qiskit_alt` is significant, but does not increase with the number of terms `n`. Further benchmarks show that the time required to convert the strings from Python to Julia is about three times longer than the time required to construct the operators. "
   ]
  },
  {
   "cell_type": "code",
   "execution_count": null,
   "id": "c8567df6",
   "metadata": {},
   "outputs": [],
   "source": []
  }
 ],
 "metadata": {
  "kernelspec": {
   "display_name": "env",
   "language": "python",
   "name": "env"
  },
  "language_info": {
   "codemirror_mode": {
    "name": "ipython",
    "version": 3
   },
   "file_extension": ".py",
   "mimetype": "text/x-python",
   "name": "python",
   "nbconvert_exporter": "python",
   "pygments_lexer": "ipython3",
   "version": "3.9.7"
  }
 },
 "nbformat": 4,
 "nbformat_minor": 5
}
