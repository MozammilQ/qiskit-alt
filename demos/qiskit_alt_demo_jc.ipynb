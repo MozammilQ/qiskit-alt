{
 "cells": [
  {
   "cell_type": "markdown",
   "id": "3e23cbd3",
   "metadata": {},
   "source": [
    "# qiskit_alt\n",
    "\n",
    "This python package provides a thin wrapper around some features of Qiskit that have been (re-)implemented in Julia and provides a Python interface. The input and output of the Python interface are the same as the input and output to Python qiskit. At present, we have prepared two high level demonstrations\n",
    "\n",
    "* Performing the Jordan-Wigner transform from a Fermionic operator to a Pauli operator.\n",
    "\n",
    "* Computing the Fermionic operator from integrals computed by `pyscf`.\n",
    "\n",
    "In both cases, we will see that the `qiskit_alt` implementation is much more performant.\n",
    "\n",
    "We have also prepared some lower-level demonstrations of performance gains\n",
    "\n",
    "* Converting an operator from the computational basis to the Pauli basis.\n",
    "\n",
    "* Creating a `SparsePauliOp` from a list of strings"
   ]
  },
  {
   "cell_type": "markdown",
   "id": "86f7fd8f",
   "metadata": {},
   "source": [
    "The Python package has been installed in a virtual environment created with `python -m venv ./env`. The Julia packages have been installed in a local environment in the standard way, via a spec in `Project.toml` file.\n",
    "\n",
    "When we import the package `qiskit_alt`, the Julia environment is also activated.\n",
    "There are two options for communcating with Julia: `PyCall.jl/pyjulia` and `PythonCall.jl/juliacall`.\n",
    "Here we use the second by passing `calljulia=\"juliacall\"` when initializing."
   ]
  },
  {
   "cell_type": "code",
   "execution_count": 1,
   "id": "29b7099b",
   "metadata": {
    "scrolled": true
   },
   "outputs": [],
   "source": [
    "import qiskit_alt\n",
    "qiskit_alt.project.ensure_init(calljulia=\"juliacall\", compile=False)"
   ]
  },
  {
   "cell_type": "markdown",
   "id": "cb29172e",
   "metadata": {},
   "source": [
    "We assume that no one is familiar with Julia, much less with `juliacall`, the package we use to call Julia from Python. So, we inject a bit of tutorial.\n",
    "\n",
    "The default `Module` in Julia `Main` is available. You can think of it as a namespace. And, as always, objects from the `Module` `Base` have been imported into `Main`.\n",
    "\n",
    "As an example of how `juliacall` works, we create an `Array` of `Float64` zeros on the Julia side. On the Python side, they are dispalyed as they would in Julia."
   ]
  },
  {
   "cell_type": "code",
   "execution_count": 2,
   "id": "0f936bc8",
   "metadata": {
    "scrolled": true
   },
   "outputs": [
    {
     "data": {
      "text/csv": [
       "0.0\n",
       "0.0\n",
       "0.0\n"
      ],
      "text/plain": [
       "3-element Vector{Float64}:\n",
       " 0.0\n",
       " 0.0\n",
       " 0.0"
      ],
      "text/tab-separated-values": [
       "0.0\n",
       "0.0\n",
       "0.0\n"
      ]
     },
     "execution_count": 2,
     "metadata": {},
     "output_type": "execute_result"
    }
   ],
   "source": [
    "julia = qiskit_alt.project.julia\n",
    "Main = julia.Main\n",
    "julia.Main.zeros(3)"
   ]
  },
  {
   "cell_type": "markdown",
   "id": "fb44499b",
   "metadata": {},
   "source": [
    "However, we can see that the Julia `Vector` is in fact wrapped in a Python class."
   ]
  },
  {
   "cell_type": "code",
   "execution_count": 3,
   "id": "ab337392",
   "metadata": {},
   "outputs": [
    {
     "data": {
      "text/plain": [
       "juliacall.VectorValue"
      ]
     },
     "execution_count": 3,
     "metadata": {},
     "output_type": "execute_result"
    }
   ],
   "source": [
    "type(julia.Main.zeros(3))"
   ]
  },
  {
   "cell_type": "markdown",
   "id": "b733f29d",
   "metadata": {},
   "source": [
    "There are several ways to call Julia from Python and vice versa, and to specifiy features such as the copying vs. sharing semantics. We won't go into much of this in this demo."
   ]
  },
  {
   "cell_type": "markdown",
   "id": "dea87cf9",
   "metadata": {},
   "source": [
    "## Electronic structure\n",
    "\n",
    "Part of a workflow for, say, VQE involves using qiskit-nature to do the following:\n",
    "* Get a description of a model Hamiltonian from the package `pyscf` by passing it a description of the geometry of a molecule.\n",
    "* Convert that description of a Hamiltonian to a qiskit-native Fermionic operator.\n",
    "* Convert the Fermionic operator to a qubit operator expressed in the Pauli basis.\n",
    "\n",
    "The last step above may be done in several ways, one of which is known as the Jordan-Wigner transform. It is this step that we will benchmark here."
   ]
  },
  {
   "cell_type": "markdown",
   "id": "c4ca7000",
   "metadata": {},
   "source": [
    "### qiskit-nature\n",
    "\n",
    "First, we see how this is done in qiskit-nature. We need to specify the geometry of the molecule and the\n",
    "[basis set](https://en.wikipedia.org/wiki/Basis_set_(chemistry)). We choose `sto3g`, one of the smallest, simplest, basis sets."
   ]
  },
  {
   "cell_type": "code",
   "execution_count": 4,
   "id": "ca1047f9",
   "metadata": {},
   "outputs": [],
   "source": [
    "from qiskit_nature.drivers import UnitsType, Molecule\n",
    "from qiskit_nature.drivers.second_quantization import ElectronicStructureDriverType, ElectronicStructureMoleculeDriver\n",
    "\n",
    "# Specify the geometry of the H_2 molecule\n",
    "geometry = [['H', [0., 0., 0.]],\n",
    "            ['H', [0., 0., 0.735]]]\n",
    "\n",
    "basis = 'sto3g'"
   ]
  },
  {
   "cell_type": "markdown",
   "id": "c6726e7d",
   "metadata": {},
   "source": [
    "Then, we compute the fermionic Hamiltonian like this."
   ]
  },
  {
   "cell_type": "code",
   "execution_count": 5,
   "id": "fc1697b6",
   "metadata": {},
   "outputs": [],
   "source": [
    "molecule = Molecule(geometry=geometry,\n",
    "                     charge=0, multiplicity=1)\n",
    "driver = ElectronicStructureMoleculeDriver(molecule, basis=basis, driver_type=ElectronicStructureDriverType.PYSCF)\n",
    "\n",
    "from qiskit_nature.problems.second_quantization import ElectronicStructureProblem\n",
    "from qiskit_nature.converters.second_quantization import QubitConverter\n",
    "from qiskit_nature.mappers.second_quantization import JordanWignerMapper\n",
    "\n",
    "es_problem = ElectronicStructureProblem(driver)\n",
    "second_q_op = es_problem.second_q_ops()\n",
    "\n",
    "fermionic_hamiltonian = second_q_op[0]"
   ]
  },
  {
   "cell_type": "markdown",
   "id": "f6000f0a",
   "metadata": {},
   "source": [
    "The Jordan-Wigner transform is performed like this."
   ]
  },
  {
   "cell_type": "code",
   "execution_count": 6,
   "id": "1d41dd67",
   "metadata": {},
   "outputs": [
    {
     "data": {
      "text/plain": [
       "SparsePauliOp(['YYYY', 'XXYY', 'YYXX', 'XXXX', 'IIII', 'ZIII', 'IZII', 'ZZII', 'IIZI', 'ZIZI', 'IZZI', 'IIIZ', 'ZIIZ', 'IZIZ', 'IIZZ'],\n",
       "              coeffs=[ 0.0452328 +0.j,  0.0452328 +0.j,  0.0452328 +0.j,  0.0452328 +0.j,\n",
       " -0.81054798+0.j, -0.22575349+0.j,  0.17218393+0.j,  0.12091263+0.j,\n",
       " -0.22575349+0.j,  0.17464343+0.j,  0.16614543+0.j,  0.17218393+0.j,\n",
       "  0.16614543+0.j,  0.16892754+0.j,  0.12091263+0.j])"
      ]
     },
     "execution_count": 6,
     "metadata": {},
     "output_type": "execute_result"
    }
   ],
   "source": [
    "qubit_converter = QubitConverter(mapper=JordanWignerMapper())\n",
    "nature_qubit_op = qubit_converter.convert(fermionic_hamiltonian)\n",
    "nature_qubit_op.primitive"
   ]
  },
  {
   "cell_type": "markdown",
   "id": "f00c5538",
   "metadata": {},
   "source": [
    "### qiskit_alt\n",
    "\n",
    "The only high-level code in `qiskit_alt` was written to support this demo. So doing the JW-transform is less verbose."
   ]
  },
  {
   "cell_type": "code",
   "execution_count": 7,
   "id": "7ecebbe7",
   "metadata": {},
   "outputs": [
    {
     "data": {
      "text/plain": [
       "SparsePauliOp(['IIII', 'ZIII', 'IZII', 'ZZII', 'IIZI', 'ZIZI', 'IZZI', 'XXXX', 'YYXX', 'XXYY', 'YYYY', 'IIIZ', 'ZIIZ', 'IZIZ', 'IIZZ'],\n",
       "              coeffs=[-0.09057899+0.j, -0.22575349+0.j,  0.17218393+0.j,  0.12091263+0.j,\n",
       " -0.22575349+0.j,  0.17464343+0.j,  0.16614543+0.j,  0.0452328 +0.j,\n",
       "  0.0452328 +0.j,  0.0452328 +0.j,  0.0452328 +0.j,  0.17218393+0.j,\n",
       "  0.16614543+0.j,  0.16892754+0.j,  0.12091263+0.j])"
      ]
     },
     "execution_count": 7,
     "metadata": {},
     "output_type": "execute_result"
    }
   ],
   "source": [
    "import qiskit_alt.electronic_structure\n",
    "fermi_op = qiskit_alt.electronic_structure.fermionic_hamiltonian(geometry, basis)\n",
    "pauli_op = qiskit_alt.electronic_structure.jordan_wigner(fermi_op)\n",
    "pauli_op.simplify() # The Julia Pauli operators use a different sorting convention; we sort again for comparison. "
   ]
  },
  {
   "cell_type": "markdown",
   "id": "3d6b0ffa",
   "metadata": {},
   "source": [
    "Note that the constant term differs. The qiskit-nature version ignores the nuclear-repulsion term. I need to open an issue about whether and how to handle it."
   ]
  },
  {
   "cell_type": "markdown",
   "id": "f32494c5",
   "metadata": {},
   "source": [
    "### Benchmarking\n",
    "\n",
    "Computing the Hamiltonian for a larger molecule or a larger basis set takes more time and produces a Hamiltonian with more factors and terms. Here we compare the performance of `qiskit_alt` and `qiskit-nature` on combinations of $\\text{H}_2$ and $\\text{H}_2\\text{O}$ molecules for several basis sets."
   ]
  },
  {
   "cell_type": "markdown",
   "id": "9c118b30",
   "metadata": {},
   "source": [
    "First we benchmark qiskit-nature, and record the times in `nature_times`."
   ]
  },
  {
   "cell_type": "code",
   "execution_count": 8,
   "id": "83562a9c",
   "metadata": {},
   "outputs": [
    {
     "name": "stdout",
     "output_type": "stream",
     "text": [
      "geometry=h2_geometry, basis='sto3g' 3.30 ms\n",
      "geometry=h2_geometry, basis='631g' 39.01 ms\n",
      "geometry=h2_geometry, basis='631++g' 201.21 ms\n",
      "geometry=h2o_geometry, basis='sto3g' 235.18 ms\n",
      "geometry=h2o_geometry, basis='631g' 3103.37 ms\n"
     ]
    },
    {
     "data": {
      "text/plain": [
       "[3.300445107743144,\n",
       " 39.00811760686338,\n",
       " 201.20953600853682,\n",
       " 235.17840416170657,\n",
       " 3103.3738718833774]"
      ]
     },
     "execution_count": 8,
     "metadata": {},
     "output_type": "execute_result"
    }
   ],
   "source": [
    "%run ../bench/jordan_wigner_nature_time.py\n",
    "nature_times"
   ]
  },
  {
   "cell_type": "markdown",
   "id": "c6f6e210",
   "metadata": {},
   "source": [
    "Next we benchmark qiskit_alt, and record the times in `alt_times`."
   ]
  },
  {
   "cell_type": "code",
   "execution_count": 9,
   "id": "56f3abc4",
   "metadata": {
    "scrolled": true
   },
   "outputs": [
    {
     "name": "stdout",
     "output_type": "stream",
     "text": [
      "geometry=h2_geometry, basis='sto3g' 0.18 ms\n",
      "geometry=h2_geometry, basis='631g' 2.35 ms\n",
      "geometry=h2_geometry, basis='631++g' 19.60 ms\n",
      "geometry=h2o_geometry, basis='sto3g' 15.87 ms\n",
      "geometry=h2o_geometry, basis='631g' 556.02 ms\n"
     ]
    },
    {
     "data": {
      "text/plain": [
       "[0.17719920724630356,\n",
       " 2.354525704868138,\n",
       " 19.604289019480348,\n",
       " 15.869565401226282,\n",
       " 556.0218370053917]"
      ]
     },
     "execution_count": 9,
     "metadata": {},
     "output_type": "execute_result"
    }
   ],
   "source": [
    "%run ../bench/jordan_wigner_alt_time.py\n",
    "alt_times"
   ]
  },
  {
   "cell_type": "markdown",
   "id": "74a38fe5",
   "metadata": {},
   "source": [
    "We compare the relative performance."
   ]
  },
  {
   "cell_type": "code",
   "execution_count": 10,
   "id": "8269b475",
   "metadata": {
    "scrolled": false
   },
   "outputs": [
    {
     "data": {
      "text/plain": [
       "[18.62562005232669,\n",
       " 16.567293160661407,\n",
       " 10.263546706978222,\n",
       " 14.81946091249189,\n",
       " 5.58138847315323]"
      ]
     },
     "execution_count": 10,
     "metadata": {},
     "output_type": "execute_result"
    }
   ],
   "source": [
    "[t_nature / t_qk_alt for t_nature, t_qk_alt in zip(nature_times, alt_times)]"
   ]
  },
  {
   "cell_type": "markdown",
   "id": "e7e0524b",
   "metadata": {},
   "source": [
    "We see that\n",
    "* qiskit_alt is at least ten times faster\n",
    "* The relative performance increases as the problem in some sense gets larger.\n",
    "\n",
    "In fact, another problem, not shown here, finishes in 18s with qiskit_alt and in 5730s in qiskit-nature.\n",
    "In this case, `qiskit_alt` is 320 times faster than `qiskit-nature`. I don't have an idea about the origin of this scaling."
   ]
  },
  {
   "cell_type": "markdown",
   "id": "f6ca3e40",
   "metadata": {},
   "source": [
    "### Computing the Fermonic operator\n",
    "\n",
    "Computing the Fermionic operator from the output of `pyscf` is also much more efficient in `qiskit_alt`."
   ]
  },
  {
   "cell_type": "markdown",
   "id": "f2dd8cfa",
   "metadata": {},
   "source": [
    "We benchmark qiskit-nature computing the fermionic Hamiltonian"
   ]
  },
  {
   "cell_type": "code",
   "execution_count": 11,
   "id": "1eb2798b",
   "metadata": {},
   "outputs": [
    {
     "name": "stdout",
     "output_type": "stream",
     "text": [
      "geometry=h2_geometry, basis='sto3g' 59.96 ms\n",
      "geometry=h2_geometry, basis='631g' 101.52 ms\n",
      "geometry=h2_geometry, basis='631++g' 310.82 ms\n",
      "geometry=h2o_geometry, basis='sto3g' 446.44 ms\n",
      "geometry=h2o_geometry, basis='631g' 24391.53 ms\n"
     ]
    },
    {
     "data": {
      "text/plain": [
       "[59.957073791883886,\n",
       " 101.52261711191386,\n",
       " 310.81768460571766,\n",
       " 446.4369765948504,\n",
       " 24391.52706321329]"
      ]
     },
     "execution_count": 11,
     "metadata": {},
     "output_type": "execute_result"
    }
   ],
   "source": [
    "%run ../bench/fermionic_nature_time.py\n",
    "nature_times"
   ]
  },
  {
   "cell_type": "markdown",
   "id": "a56c2fd1",
   "metadata": {},
   "source": [
    "We benchmark qiskit_alt computing the fermionic Hamiltonian."
   ]
  },
  {
   "cell_type": "code",
   "execution_count": 12,
   "id": "b6650d69",
   "metadata": {},
   "outputs": [
    {
     "name": "stdout",
     "output_type": "stream",
     "text": [
      "geometry=h2_geometry, basis='sto3g' 58.65 ms\n",
      "geometry=h2_geometry, basis='631g' 62.26 ms\n",
      "geometry=h2_geometry, basis='631++g' 64.02 ms\n",
      "geometry=h2o_geometry, basis='sto3g' 75.56 ms\n",
      "geometry=h2o_geometry, basis='631g' 181.35 ms\n"
     ]
    },
    {
     "data": {
      "text/plain": [
       "[58.645384199917316,\n",
       " 62.25809780880809,\n",
       " 64.02283560018986,\n",
       " 75.55517368018627,\n",
       " 181.35322742164135]"
      ]
     },
     "execution_count": 12,
     "metadata": {},
     "output_type": "execute_result"
    }
   ],
   "source": [
    "%run ../bench/fermionic_alt_time.py\n",
    "alt_times"
   ]
  },
  {
   "cell_type": "markdown",
   "id": "0c8e4ac9",
   "metadata": {},
   "source": [
    "We compare the relative performance."
   ]
  },
  {
   "cell_type": "code",
   "execution_count": 13,
   "id": "e197f5fb",
   "metadata": {},
   "outputs": [
    {
     "data": {
      "text/plain": [
       "[1.0223664591827915,\n",
       " 1.6306732888577065,\n",
       " 4.85479410107221,\n",
       " 5.908754554447207,\n",
       " 134.49734206551312]"
      ]
     },
     "execution_count": 13,
     "metadata": {},
     "output_type": "execute_result"
    }
   ],
   "source": [
    "[t_nature / t_qk_alt for t_nature, t_qk_alt in zip(nature_times, alt_times)]"
   ]
  },
  {
   "cell_type": "markdown",
   "id": "ef5d18bf",
   "metadata": {},
   "source": [
    "We see again that, as the problem size increases, `qiskit_alt` is increasingly more performant."
   ]
  },
  {
   "cell_type": "markdown",
   "id": "bdfd094a",
   "metadata": {},
   "source": [
    "## Discussion\n",
    "\n",
    "The Julia implemenation consists of these packages\n",
    "\n",
    "* [`QuantumOps.jl`](https://github.com/Qiskit-Extensions/QuantumOps.jl) implementing Fermionic and Pauli operators and calculations using them.\n",
    "\n",
    "* [`ElectronicStructure.jl`](https://github.com/Qiskit-Extensions/ElectronicStructure.jl) provides an interface to electronic structure packages.\n",
    "\n",
    "* [`ElectronicStructurePySCF.jl`](https://github.com/Qiskit-Extensions/ElectronicStructurePySCF.jl) provides an interface to `pyscf`\n",
    "\n",
    "* [`QiskitQuantumInfo.jl`](https://github.com/Qiskit-Extensions/QiskitQuantumInfo.jl) provides data structures that mirror Python Qiskit data structures. These are used as intermedidate structures for converting from `QuantumOps` and `ElectronicStructure` to Python Qiskit. In the future these might be used directly for calculations.\n",
    "\n",
    "\n",
    "The Python interface is a Python package `qiskit_alt`. This could contain a mixture of Julia and Python code. Or all the Julia code might be moved to the Julia packages.\n",
    "\n",
    "### Implementation\n",
    "\n",
    "In the examples above, the following happens.\n",
    "\n",
    "* Julia code calls `pyscf` and stores the results in Julia data structures.\n",
    "\n",
    "* These data are used to construct a Fermionic operator as a data structure defined in `QuantumOps`.\n",
    "\n",
    "* The Jordan-Wigner transform, implemented in `QuantumOps` is used to compute a Pauli operator.\n",
    "\n",
    "* The Pauli operator (as a structure in `QuantumOps`) is converted to a Qiskit-like operator defined in `QiskitQuantumInfo.jl`.\n",
    "\n",
    "* The operator defined in `QiskitQuantumInfo.jl` is sent to Python and converted to numpy arrays, which are then used to construct native Qiskit types. The conversion to numpy arrays is provided by `pyjulia`.\n",
    "\n",
    "### Complexity, dynamism\n",
    "\n",
    "* It is worth noting that operators in `QuantumOps` are *not* highly optimized implementations. In fact, much of the code for the two types of operators is shared, they inherit from a parent class. There are other implementations of Pauli operators in Julia that are much more efficient for instance in [`QuantumClifford.jl`](https://github.com/Krastanov/QuantumClifford.jl).\n",
    "\n",
    "* [Issue](https://github.com/Qiskit-Extensions/QuantumOps.jl/issues/17) for improving performance of Jordan-Wigner in `QuantumOps`.\n",
    "    * Precompute one and two-body terms\n",
    "    * Use @threads\n"
   ]
  },
  {
   "cell_type": "markdown",
   "id": "af37da81",
   "metadata": {},
   "source": [
    "# More demos\n",
    "\n",
    "Here are some smaller scale demonstrations.\n",
    "\n",
    "## Converting a matrix to the Pauli basis\n",
    "\n",
    "Here we convert a matrix representing an operator in the computational basis to the Pauli basis.\n",
    "In this case, `qiskit_alt` is much more performant than `qiskit.quantum_info`.\n",
    "This is how it is done in `QuantumOps`."
   ]
  },
  {
   "cell_type": "code",
   "execution_count": 14,
   "id": "9bda9915",
   "metadata": {},
   "outputs": [
    {
     "data": {
      "text/plain": [
       "SparsePauliOp(['III', 'XII', 'YII', 'ZII', 'IXI', 'XXI', 'YXI', 'ZXI', 'IYI', 'XYI', 'YYI', 'ZYI', 'IZI', 'XZI', 'YZI', 'ZZI', 'IIX', 'XIX', 'YIX', 'ZIX', 'IXX', 'XXX', 'YXX', 'ZXX', 'IYX', 'XYX', 'YYX', 'ZYX', 'IZX', 'XZX', 'YZX', 'ZZX', 'IIY', 'XIY', 'YIY', 'ZIY', 'IXY', 'XXY', 'YXY', 'ZXY', 'IYY', 'XYY', 'YYY', 'ZYY', 'IZY', 'XZY', 'YZY', 'ZZY', 'IIZ', 'XIZ', 'YIZ', 'ZIZ', 'IXZ', 'XXZ', 'YXZ', 'ZXZ', 'IYZ', 'XYZ', 'YYZ', 'ZYZ', 'IZZ', 'XZZ', 'YZZ', 'ZZZ'],\n",
       "              coeffs=[ 0.58230825+0.j        ,  0.58188025+0.j        ,  0.        +0.10409742j,\n",
       "  0.03180181+0.j        ,  0.6945495 +0.j        ,  0.42739346+0.j        ,\n",
       "  0.        -0.1045725j ,  0.11544287+0.j        ,  0.        +0.02631752j,\n",
       "  0.        -0.02150802j,  0.00452969+0.j        ,  0.        +0.00030698j,\n",
       " -0.0313073 +0.j        ,  0.06866987+0.j        ,  0.        +0.13950625j,\n",
       " -0.04557353+0.j        ,  0.47431829+0.j        ,  0.45800551+0.j        ,\n",
       "  0.        +0.0270196j , -0.01194553+0.j        ,  0.33553012+0.j        ,\n",
       "  0.51936366+0.j        ,  0.        +0.02884795j, -0.09220285+0.j        ,\n",
       "  0.        +0.14056313j,  0.        +0.02248184j, -0.03459762-0.j        ,\n",
       "  0.        -0.03023093j, -0.0032599 +0.j        ,  0.00529333+0.j        ,\n",
       "  0.        +0.0778217j , -0.23530792+0.j        ,  0.        -0.11731648j,\n",
       "  0.        -0.114612j  , -0.04712552-0.j        ,  0.        +0.06851582j,\n",
       "  0.        -0.01789098j,  0.        +0.07428848j,  0.22493813+0.j        ,\n",
       "  0.        +0.1713509j ,  0.03379485+0.j        , -0.10877464-0.j        ,\n",
       "  0.        -0.20187169j, -0.13690245-0.j        ,  0.        +0.09061317j,\n",
       "  0.        +0.03400482j,  0.08564516+0.j        ,  0.        +0.15177087j,\n",
       "  0.18712635+0.j        , -0.24255515+0.j        ,  0.        +0.12395224j,\n",
       "  0.13855542+0.j        ,  0.11939501+0.j        ,  0.11732131+0.j        ,\n",
       "  0.        +0.0707233j , -0.12595996+0.j        ,  0.        +0.03406474j,\n",
       "  0.        +0.07313686j,  0.07391283+0.j        ,  0.        +0.03980845j,\n",
       "  0.21565409+0.j        ,  0.06438585+0.j        ,  0.        +0.10269266j,\n",
       " -0.13519153+0.j        ])"
      ]
     },
     "execution_count": 14,
     "metadata": {},
     "output_type": "execute_result"
    }
   ],
   "source": [
    "from qiskit_alt.pauli_operators import QuantumOps, PauliSum_to_SparsePauliOp\n",
    "import numpy as np\n",
    "m = np.random.rand(2**3, 2**3) # 3-qubit operator\n",
    "m = Main.convert(Main.Matrix, m) # Convert PythonCall.PyArray to a native Julia type\n",
    "pauli_sum = QuantumOps.PauliSum(m) # This is a wrapped Julia object\n",
    "PauliSum_to_SparsePauliOp(pauli_sum) # Convert to qiskit.quantum_info.SparsePauliOp"
   ]
  },
  {
   "cell_type": "markdown",
   "id": "0bfdfacb",
   "metadata": {},
   "source": [
    "When using `pyjulia`, the `numpy` matrix is automatically converted to a Julia `Matrix`.\n",
    "But, here, we are using `juliacall`. In this case the `numpy` matrix is wrapped in `PythonCall.PyArray`, a subtype of `AbstractMatrix` that is particular to `juliacall`. It supports iteration in Julia, but the iterator calls python. The performance in this case is much worse. For this reason, we convert it to a matrix of Julia floats via\n",
    "`m = Main.convert(Main.Matrix, m)`"
   ]
  },
  {
   "cell_type": "markdown",
   "id": "9268c181",
   "metadata": {},
   "source": [
    "We run benchmarks of conversion of matrices to the Pauli basis."
   ]
  },
  {
   "cell_type": "code",
   "execution_count": 15,
   "id": "a6945b8f",
   "metadata": {},
   "outputs": [
    {
     "name": "stdout",
     "output_type": "stream",
     "text": [
      "nqubits=2, 1.28 ms\n",
      "nqubits=3, 5.01 ms\n",
      "nqubits=4, 24.58 ms\n",
      "nqubits=5, 140.58 ms\n",
      "nqubits=6, 1020.32 ms\n",
      "nqubits=7, 8875.06 ms\n",
      "nqubits=8, 108370.44 ms\n"
     ]
    }
   ],
   "source": [
    "%run ../bench/from_matrix_quantum_info.py"
   ]
  },
  {
   "cell_type": "code",
   "execution_count": 16,
   "id": "465a7bf5",
   "metadata": {},
   "outputs": [
    {
     "name": "stdout",
     "output_type": "stream",
     "text": [
      "nqubits=2, 0.23 ms\n",
      "nqubits=3, 0.31 ms\n",
      "nqubits=4, 10.84 ms\n",
      "nqubits=5, 27.14 ms\n",
      "nqubits=6, 25.03 ms\n",
      "nqubits=7, 103.43 ms\n",
      "nqubits=8, 553.45 ms\n"
     ]
    }
   ],
   "source": [
    "%run ../bench/from_matrix_alt.py"
   ]
  },
  {
   "cell_type": "markdown",
   "id": "94fd017c",
   "metadata": {},
   "source": [
    "Here are the ratios of the times for `qiskit.quantum_info` to those for `qiskit_alt`."
   ]
  },
  {
   "cell_type": "code",
   "execution_count": 17,
   "id": "217f2f7a",
   "metadata": {},
   "outputs": [
    {
     "data": {
      "text/plain": [
       "[5.6788111780212684,\n",
       " 16.4318143655766,\n",
       " 2.2672626078863733,\n",
       " 5.180106151548867,\n",
       " 40.759467962961715,\n",
       " 85.80711464351577,\n",
       " 195.80956101096078]"
      ]
     },
     "execution_count": 17,
     "metadata": {},
     "output_type": "execute_result"
    }
   ],
   "source": [
    "[t_pyqk / t_qk_alt for t_pyqk, t_qk_alt in zip(pyqk_times, qk_alt_times)]"
   ]
  },
  {
   "cell_type": "markdown",
   "id": "40fb432c",
   "metadata": {},
   "source": [
    "Again, the performance gain increases with the problem size."
   ]
  },
  {
   "cell_type": "markdown",
   "id": "0cd10e98",
   "metadata": {},
   "source": [
    "## Creating a `SparsePauliOp` from a list of strings\n",
    "\n",
    "\n",
    "Here, we create a `SparsePauliOp` from a list of `n` strings, each with `k` single-Pauli factors, and simplify the result."
   ]
  },
  {
   "cell_type": "markdown",
   "id": "fbfeab47",
   "metadata": {},
   "source": [
    "First, using `qiskit.quantum_info`"
   ]
  },
  {
   "cell_type": "code",
   "execution_count": 18,
   "id": "39ad43f3",
   "metadata": {},
   "outputs": [
    {
     "name": "stdout",
     "output_type": "stream",
     "text": [
      "k=10, n=10, 0.3342609968967736 ms\n",
      "k=10, n=100, 1.8926906515844166 ms\n",
      "k=10, n=1000, 16.779631900135428 ms\n",
      "k=10, n=5000, 83.44200999708846 ms\n",
      "k=10, n=10000, 168.6188920866698 ms\n",
      "k=10, n=100000, 1765.660970006138 ms\n",
      "k=100, n=10, 0.34020134480670094 ms\n",
      "k=100, n=100, 1.9124412443488836 ms\n",
      "k=100, n=1000, 17.62367991032079 ms\n",
      "k=100, n=5000, 89.54448039876297 ms\n",
      "k=100, n=10000, 180.06238690577447 ms\n",
      "k=100, n=100000, 1847.677995916456 ms\n"
     ]
    }
   ],
   "source": [
    "%run ../bench/pauli_from_list_qinfo.py"
   ]
  },
  {
   "cell_type": "markdown",
   "id": "bc7f9d07",
   "metadata": {},
   "source": [
    "Now, using `qiskit_alt`"
   ]
  },
  {
   "cell_type": "code",
   "execution_count": 19,
   "id": "a4b9eeda",
   "metadata": {},
   "outputs": [
    {
     "name": "stdout",
     "output_type": "stream",
     "text": [
      "k=10, n=10, 0.08436074713245034 ms\n",
      "k=10, n=100, 0.12164255604147911 ms\n",
      "k=10, n=1000, 0.5137079511769116 ms\n",
      "k=10, n=5000, 2.6032541529275477 ms\n",
      "k=10, n=10000, 6.878606008831412 ms\n",
      "k=10, n=100000, 94.18304250575602 ms\n",
      "k=100, n=10, 0.10068245464935899 ms\n",
      "k=100, n=100, 0.22444200003519654 ms\n",
      "k=100, n=1000, 1.5054140472784638 ms\n",
      "k=100, n=5000, 7.717218191828579 ms\n",
      "k=100, n=10000, 17.424617102369666 ms\n",
      "k=100, n=100000, 212.43814380140975 ms\n"
     ]
    }
   ],
   "source": [
    "%run ../bench/pauli_from_list_alt.py"
   ]
  },
  {
   "cell_type": "markdown",
   "id": "a1372173",
   "metadata": {},
   "source": [
    "The results were written to lists `quantum_info_times` and `qkalt_times`. We compare the performance:"
   ]
  },
  {
   "cell_type": "code",
   "execution_count": 20,
   "id": "e7bfa245",
   "metadata": {},
   "outputs": [
    {
     "data": {
      "text/plain": [
       "[3.9622811349924163,\n",
       " 15.559444927637205,\n",
       " 32.663757416432965,\n",
       " 32.05296336635126,\n",
       " 24.513526704419583,\n",
       " 18.74712180696678,\n",
       " 3.378953621974163,\n",
       " 8.520870621581427,\n",
       " 11.706865591018927,\n",
       " 11.603207033018409,\n",
       " 10.333793038200353,\n",
       " 8.697487008941728]"
      ]
     },
     "execution_count": 20,
     "metadata": {},
     "output_type": "execute_result"
    }
   ],
   "source": [
    "[x / y for x,y in zip(quantum_info_times, qkalt_times)]"
   ]
  },
  {
   "cell_type": "markdown",
   "id": "7c28aadc",
   "metadata": {},
   "source": [
    "We see that the performance improvement in `qiskit_alt` is significant, but does not increase with the number of terms `n`. Further benchmarks show that the time required to convert the strings from Python to Julia takes all the time.\n",
    "\n",
    "We see this in the following."
   ]
  },
  {
   "cell_type": "markdown",
   "id": "90790853",
   "metadata": {},
   "source": [
    "These last magics (below this version table) are not defined for `juliacall`, so we skip them."
   ]
  },
  {
   "cell_type": "code",
   "execution_count": 21,
   "id": "4e80561e",
   "metadata": {},
   "outputs": [
    {
     "name": "stderr",
     "output_type": "stream",
     "text": [
      "/home/lapeyre/julia_qiskit_repos/qiskit_alt/venv/lib/python3.9/site-packages/qiskit/tools/jupyter/__init__.py:133: RuntimeWarning: matplotlib can't be found, ensure you have matplotlib and other visualization dependencies installed. You can run '!pip install qiskit-terra[visualization]' to install it from jupyter\n",
      "  warnings.warn(\n"
     ]
    },
    {
     "data": {
      "text/html": [
       "<h3>Version Information</h3><table><tr><th>Qiskit Software</th><th>Version</th></tr><tr><td><code>qiskit-terra</code></td><td>0.20.0</td></tr><tr><td><code>qiskit_alt</code></td><td>0.1.13</td></tr><tr><td><code>qiskit-nature</code></td><td>0.3.1</td></tr><tr><th>System information</th></tr><tr><td>Python version</td><td>3.9.7</td></tr><tr><td>Python compiler</td><td>GCC 11.1.0</td></tr><tr><td>Python build</td><td>default, Oct 10 2021 15:13:22</td></tr><tr><td>OS</td><td>Linux</td></tr><tr><td>CPUs</td><td>12</td></tr><tr><td>Memory (Gb)</td><td>62.76226043701172</td></tr><tr><td colspan='2'>Tue Apr 05 11:26:18 2022 EDT</td></tr></table>"
      ],
      "text/plain": [
       "<IPython.core.display.HTML object>"
      ]
     },
     "metadata": {},
     "output_type": "display_data"
    }
   ],
   "source": [
    "import qiskit.tools.jupyter\n",
    "d = qiskit.__qiskit_version__._version_dict\n",
    "d['qiskit_alt'] = qiskit_alt.__version__\n",
    "%qiskit_version_table"
   ]
  },
  {
   "cell_type": "code",
   "execution_count": 22,
   "id": "43d88903",
   "metadata": {
    "scrolled": true
   },
   "outputs": [],
   "source": [
    "# %load_ext julia.magic"
   ]
  },
  {
   "cell_type": "markdown",
   "id": "0b82727a",
   "metadata": {},
   "source": [
    "Generate `1000` ten-qubit Pauli strings."
   ]
  },
  {
   "cell_type": "code",
   "execution_count": 23,
   "id": "22ac98aa",
   "metadata": {},
   "outputs": [],
   "source": [
    "# %julia using Random: randstring\n",
    "#%julia pauli_strings = [randstring(\"IXYZ\", 10) for _ in 1:1000]\n",
    "# None;"
   ]
  },
  {
   "cell_type": "markdown",
   "id": "77f21d2d",
   "metadata": {},
   "source": [
    "Benchmark converting these to a `QuantumOps.PauliSum`. Note that as the sums are always sorted."
   ]
  },
  {
   "cell_type": "code",
   "execution_count": 24,
   "id": "4c1dade6",
   "metadata": {},
   "outputs": [],
   "source": [
    "# %julia import Pkg; Pkg.add(\"BenchmarkTools\")\n",
    "#%julia using BenchmarkTools: @btime\n",
    "#%julia @btime QuantumOps.PauliSum($pauli_strings)\n",
    "#None;"
   ]
  },
  {
   "cell_type": "markdown",
   "id": "5b1facf8",
   "metadata": {},
   "source": [
    "Check that we are actually getting the right result."
   ]
  },
  {
   "cell_type": "code",
   "execution_count": 25,
   "id": "ff503a66",
   "metadata": {},
   "outputs": [],
   "source": [
    "#%julia pauli_sum = QuantumOps.PauliSum(pauli_strings);\n",
    "#%julia println(length(pauli_sum))\n",
    "#%julia println(pauli_sum[1])"
   ]
  },
  {
   "cell_type": "code",
   "execution_count": 26,
   "id": "6255a2ef",
   "metadata": {},
   "outputs": [],
   "source": [
    "#6.9 * 2.29 / .343  # Ratio of time to construct PauliSum via qiskit_alt to time in pure Julia"
   ]
  },
  {
   "cell_type": "markdown",
   "id": "d2c36826",
   "metadata": {},
   "source": [
    "So the pure Julia code is `46` times faster than the qiskit.quantum_info.\n",
    "**But, the `qiskit.quantum_info` is also extracting a possible phase !**"
   ]
  }
 ],
 "metadata": {
  "kernelspec": {
   "display_name": "qiskit_env_march2022",
   "language": "python",
   "name": "qiskit_env_march2022"
  },
  "language_info": {
   "codemirror_mode": {
    "name": "ipython",
    "version": 3
   },
   "file_extension": ".py",
   "mimetype": "text/x-python",
   "name": "python",
   "nbconvert_exporter": "python",
   "pygments_lexer": "ipython3",
   "version": "3.9.7"
  }
 },
 "nbformat": 4,
 "nbformat_minor": 5
}
